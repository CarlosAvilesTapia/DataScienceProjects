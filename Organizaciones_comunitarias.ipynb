{
  "nbformat": 4,
  "nbformat_minor": 0,
  "metadata": {
    "colab": {
      "provenance": [],
      "toc_visible": true
    },
    "kernelspec": {
      "name": "python3",
      "display_name": "Python 3"
    },
    "language_info": {
      "name": "python"
    }
  },
  "cells": [
    {
      "cell_type": "markdown",
      "source": [
        "# __Casos de uso__\n",
        "## Grupo 01\n",
        "## Módulo 01: Fundamentos de Python"
      ],
      "metadata": {
        "id": "f4dB0RvpaVuP"
      }
    },
    {
      "cell_type": "markdown",
      "source": [
        "#<font color='blue'>**Caso de uso: Carlos Avilés Tapia**</font>\n",
        "##***Título: Análisis básico de datos de organizaciones sociales de la comuna***\n",
        "\n",
        "  El municipio de San Antonio cuenta con un registro de organizaciones sociales constituídas desde hace más de 50 años, sin embargo, de ese registro no se obtiene información relevante para focalizar recursos y optimizar cualquier tipo de intervención comunitaria mediante decisiones basadas en datos.  "
      ],
      "metadata": {
        "id": "UbpVp6_Sa0xb"
      }
    },
    {
      "cell_type": "markdown",
      "source": [
        "<img src=\"https://turismo.sanantonio.cl/images/permanentes/DSC06744.jpg\" width=\"500\"/>"
      ],
      "metadata": {
        "id": "9ukpJ3n5dpEH"
      }
    },
    {
      "cell_type": "markdown",
      "source": [
        "La ley 19.418 de organizaciones comunitarias establece la obligación para cada municipio de llevar un registro de las organizaciones constituídas bajo esta ley, sin embargo, no establece mecanismos ni el soporte de este registro, por lo que simplemente se volcó la información física en una planilla de excel, llenándose con diferentes criterios de acuerdo a la administración a cargo de dicho registro.\n",
        "Actualmente, dicho registro cuenta con más de 3000 ingresos y se actualiza con una frecuencia mensual, tanto con nuevos ingresos como con actualizaciones de ingresos existentes, por lo que se dificulta poder obtener información actualizada desde estos datos.\n",
        "De ahí entonces, la necesidad de poder **obtener información** de forma **ágil y periódica** ya sea en base a reportes o informes con información relevante y segmentada de acuerdo a criterios específicos según la ocasión.\n",
        "Dentro de este primer módulo de fundamentos de Python se entregó material relevante sobre tipos de datos, importación y lectura de archivos lo que es suficiente para poder tratar de realizar un análisis básico de datos de las organizaciones de la comuna.\n"
      ],
      "metadata": {
        "id": "FJfCV_LmcYL7"
      }
    },
    {
      "cell_type": "markdown",
      "source": [
        "##Previamente se transforma el archivo `.xlsx` en un archivo `.csv` para poder trabajarlo en el entorno."
      ],
      "metadata": {
        "id": "Lx8hZ8XxguOf"
      }
    },
    {
      "cell_type": "code",
      "execution_count": null,
      "metadata": {
        "id": "EGGECmUbZl0m"
      },
      "outputs": [],
      "source": [
        "# Importación que permitirá trabajar con archivos de tipo csv.\n",
        "import csv\n",
        "\n",
        "# Se crea un listado donde se almacenrán las organizaciones del archivo.\n",
        "organizaciones = []\n",
        "# Delimitador que contiene el archivo csv.\n",
        "delimitador = ';'\n",
        "\n",
        "# Se abre el archivo de forma Pythonista y se lee.\n",
        "with open(\"/content/drive/MyDrive/Archivos/organizaciones_comunitarias.csv\",\n",
        "          newline = '', encoding = 'utf-8') as archivo_csv:\n",
        "    # Método del módulo csv que transforma cada fila del archivo en un diccionario.\n",
        "    lector = csv.DictReader(archivo_csv, delimiter=delimitador)\n",
        "\n",
        "    # Ciclo para rellenar el listado de diccionarios.\n",
        "    # Donde cada diccionario corresponde a una organización y sus datos.\n",
        "    for fila in lector:\n",
        "        organizaciones.append(fila)"
      ]
    },
    {
      "cell_type": "code",
      "source": [
        "# Impresión de muestra de los primeros 5 registros.\n",
        "for i in range(5):\n",
        "    print(organizaciones[i])"
      ],
      "metadata": {
        "colab": {
          "base_uri": "https://localhost:8080/"
        },
        "id": "gA5piV1nmUJJ",
        "outputId": "83ddb708-0df2-4a6b-cd8e-897fe1e52c22"
      },
      "execution_count": null,
      "outputs": [
        {
          "output_type": "stream",
          "name": "stdout",
          "text": [
            "{'\\ufeffUV': '1', 'Tipo Organización': 'Funcional', 'CATEGORIA': 'Social', 'RAZON SOCIAL': 'COMITÉ EDUCACIONAL DE DERECHOS HUMANOS SAN ANTONIO', 'VIGENCIA': '04-02-2026', 'PRESIDENTE ': 'Luis Barrera Jeria', 'DOMICILIO': 'Los Españoles', 'Nº': '1753', 'FONO': '990617989', 'SECRETARIO': 'Salatiel Sanchez Abarca', 'TESORERO': 'Jose joel  Muñoz  Vergara', 'DIRECTOR': 'Lorena Reyes Vera', ' DIRECTOR': 'Jose Medina Valdivia', 'lugar de funcionamiento': 'La Marina', 'Votantes': '65', 'Fecha Constitucion': '25-06-2005', 'Ministro de fe': 'Cecilia Alvarez', 'RUT': '65588200-6', 'N.R.P.J': '71883', 'DE FECHA': '', 'D.A': '2700', 'FECHA': '30-06-2005', 'LIBRO': '6', 'FOLIO': '92', '': ''}\n",
            "{'\\ufeffUV': '1', 'Tipo Organización': 'Funcional', 'CATEGORIA': 'Social', 'RAZON SOCIAL': 'AGRUPACIÓN LAS PEQUEÑAS DIVINAS', 'VIGENCIA': '20-11-2014', 'PRESIDENTE ': 'Norma Santis Hernandez', 'DOMICILIO': '', 'Nº': 'S/N', 'FONO': '', 'SECRETARIO': 'Catherine Gonzalez Puga', 'TESORERO': 'Celia Toledo Araya', 'DIRECTOR': '', ' DIRECTOR': 'Katherine Esparza Santander', 'lugar de funcionamiento': 'Poblacion El Coral', 'Votantes': '', 'Fecha Constitucion': '27-11-2008', 'Ministro de fe': 'Luis Urbina', 'RUT': '65018348-7', 'N.R.P.J': '', 'DE FECHA': '', 'D.A': '7094', 'FECHA': '05-12-2009', 'LIBRO': '8', 'FOLIO': '178', '': ''}\n",
            "{'\\ufeffUV': '1', 'Tipo Organización': 'Funcional', 'CATEGORIA': 'Social', 'RAZON SOCIAL': 'AGRUPACION SOCIAL SAGRADA FAMILIA DE NAZARET CENTRO DE AYUDA Y ORIENTACION PARA LA FAMILIA - SAN ANTONIO', 'VIGENCIA': '06-07-2015', 'PRESIDENTE ': 'Victor Torres Vallejos', 'DOMICILIO': 'Las Viscachas', 'Nº': '', 'FONO': '81770853', 'SECRETARIO': 'Juan Reinoso A', 'TESORERO': 'Carlos Veliz Alvarez', 'DIRECTOR': 'Juan Riquelme Riquelme', ' DIRECTOR': 'Walter Jimenez Urra', 'lugar de funcionamiento': '', 'Votantes': '', 'Fecha Constitucion': '11-05-2012', 'Ministro de fe': 'Ramon Oliva', 'RUT': '', 'N.R.P.J': '', 'DE FECHA': '', 'D.A': '', 'FECHA': '', 'LIBRO': '12', 'FOLIO': '24', '': ''}\n",
            "{'\\ufeffUV': '1', 'Tipo Organización': 'Funcional', 'CATEGORIA': 'Social', 'RAZON SOCIAL': 'AGRUPACION SOCIAL, CULTURAL, DEPORTIVA Y RECREATIVA TALLER RENACER DE PELANCURA', 'VIGENCIA': '30-09-2021', 'PRESIDENTE ': 'Hilda Garrido Contreras ', 'DOMICILIO': '', 'Nº': '1851', 'FONO': '', 'SECRETARIO': 'Luisa Brizuela Catalan', 'TESORERO': 'Miriam Vargas Zamora', 'DIRECTOR': 'Nancy del Carmen Riquelme Veliz ', ' DIRECTOR': 'Fabiola Katherine Gomez silva ', 'lugar de funcionamiento': 'Calle patria', 'Votantes': '14', 'Fecha Constitucion': '', 'Ministro de fe': '', 'RUT': '73140800-9', 'N.R.P.J': '', 'DE FECHA': '', 'D.A': '62', 'FECHA': '10-01-1992', 'LIBRO': '', 'FOLIO': '178', '': ''}\n",
            "{'\\ufeffUV': '1', 'Tipo Organización': 'Funcional', 'CATEGORIA': 'Social', 'RAZON SOCIAL': 'CENTRO SOCIAL CULTURAL RECREACIONAL Y DEPORTIVO PELANCURA AVANZA', 'VIGENCIA': '10-11-2015', 'PRESIDENTE ': 'Jorge Arriagada Cajales', 'DOMICILIO': '', 'Nº': '', 'FONO': '', 'SECRETARIO': 'Veronica Merino Silva', 'TESORERO': 'Juana Osorio Diaz', 'DIRECTOR': '', ' DIRECTOR': '', 'lugar de funcionamiento': '', 'Votantes': '', 'Fecha Constitucion': '14-08-2012', 'Ministro de fe': 'Ramon Oliva', 'RUT': '', 'N.R.P.J': '', 'DE FECHA': '', 'D.A': '3083', 'FECHA': '04-04-2011', 'LIBRO': '11', 'FOLIO': '', '': ''}\n"
          ]
        }
      ]
    },
    {
      "cell_type": "code",
      "source": [
        "# Datos relevantes como conocer el total de organizaciones constituídas en la comuna.\n",
        "total_organizaciones = len(organizaciones)\n",
        "print(f\"En la comuna existen {total_organizaciones} organizaciones.\")"
      ],
      "metadata": {
        "colab": {
          "base_uri": "https://localhost:8080/"
        },
        "id": "3zPKo6Wem8B8",
        "outputId": "10067746-40c7-4a89-a4b6-b6ba8f1808d3"
      },
      "execution_count": null,
      "outputs": [
        {
          "output_type": "stream",
          "name": "stdout",
          "text": [
            "En la comuna existen 3026 organizaciones.\n"
          ]
        }
      ]
    },
    {
      "cell_type": "code",
      "source": [
        "# También se pueden agrupar a las organizaciones por tipos.\n",
        "# Se crea un listado vacío.\n",
        "tipos = []\n",
        "\n",
        "# Ciclo para recorrer el listado principal.\n",
        "for org in organizaciones:\n",
        "\n",
        "    # Se establece que solo se agregará el dato de la columna \"Tipo Organizacion\"\n",
        "    tipo = org['Tipo Organización']\n",
        "    tipos.append(tipo)\n",
        "\n",
        "# Finalmente el listado se convierte en un conjunto para eliminar duplicados.\n",
        "# Y obtener solo los tipos que existen.\n",
        "tipos_de_organizacion = set(tipos)\n",
        "print(tipos_de_organizacion)\n"
      ],
      "metadata": {
        "colab": {
          "base_uri": "https://localhost:8080/"
        },
        "id": "t6XbP6RgntoX",
        "outputId": "f08f7a92-bd1c-446a-dedd-931d31a74e75"
      },
      "execution_count": null,
      "outputs": [
        {
          "output_type": "stream",
          "name": "stdout",
          "text": [
            "{'Funcional', 'Corporacion', 'Territorial'}\n"
          ]
        }
      ]
    },
    {
      "cell_type": "code",
      "source": [
        "# Luego, se pueden contar cuantas organizaciones de cada tipo existen.\n",
        "territoriales = tipos.count(\"Territorial\")\n",
        "funcionales = tipos.count(\"Funcional\")\n",
        "corporaciones = tipos.count(\"Corporacion\")\n",
        "\n",
        "print(f\"En la comuna existen {territoriales} organizaciones territoriales\")\n",
        "print(f\"En la comuna existen {funcionales} organizaciones funcionales\")\n",
        "print(f\"En la comuna existen {corporaciones} organizaciones corporaciones\")"
      ],
      "metadata": {
        "colab": {
          "base_uri": "https://localhost:8080/"
        },
        "id": "nKBjpUjAvdYg",
        "outputId": "f491d80c-86e8-4277-f7a6-4b513323dc0c"
      },
      "execution_count": null,
      "outputs": [
        {
          "output_type": "stream",
          "name": "stdout",
          "text": [
            "En la comuna existen 138 organizaciones territoriales\n",
            "En la comuna existen 2827 organizaciones funcionales\n",
            "En la comuna existen 61 organizaciones corporaciones\n"
          ]
        }
      ]
    },
    {
      "cell_type": "markdown",
      "source": [
        "Un problema frecuente del trabajo con organizaciones es que, dado el volumen de datos, no existe un protocolo para contactar de forma proactiva con organizaciones prontas a perder su vigencia, lo cual las perjudica a la hora de conseguir financiamiento estatal o postular a determinados beneficios.\n",
        "Dada la falta de información, se actúa de manera reactiva, cuando la organización acude por asesoría una vez perdida la vigencia.\n",
        "Este problema puede solucionarse de forma bastante trivial con el código que se presenta a continuación:"
      ],
      "metadata": {
        "id": "05Vfn8dkAVXt"
      }
    },
    {
      "cell_type": "code",
      "source": [
        "# Importación del módulo para trabajar con fechas.\n",
        "import datetime\n",
        "\n",
        "# Se establece la variable fecha_actual con la función para el día de hoy.\n",
        "# Para ejecutar el código en cualquier momento y que la información\n",
        "# esté actualizada.\n",
        "fecha_actual = datetime.date.today()\n",
        "\n",
        "# Se establecen 3 variables que se iran acumulando.\n",
        "org_vencidas = 0\n",
        "org_menos_de_90_dias = 0\n",
        "org_vigentes = 0\n",
        "\n",
        "# Se establece un listado vacío que se llenará con las organizaciones\n",
        "# prontas a perder su vigencia.\n",
        "listado_aviso_90_dias = []\n",
        "\n",
        "# Ciclo para recorrer el listado principal.\n",
        "for org in organizaciones:\n",
        "\n",
        "    # Se convierten los datos de la columna VIGENCIA a formato fecha\n",
        "    # para poder trabajar los cálculos.\n",
        "    fecha_vigencia = datetime.datetime.strptime(org['VIGENCIA'], '%d-%m-%Y').date()\n",
        "\n",
        "    # Se realiza la resta de fechas y se convierte (mediante .days)\n",
        "    # a un entero que arroja la cantidad de días.\n",
        "    diferencia_dias = (fecha_vigencia - fecha_actual).days\n",
        "\n",
        "    # Condiciones para agregar a cada grupo:\n",
        "    # Si la cantidad de días es negativa, la organización está vencida.\n",
        "    if diferencia_dias < 0:\n",
        "        org_vencidas += 1\n",
        "\n",
        "    # Si la cantidad de días es menor o igual a 90...\n",
        "    elif diferencia_dias <= 90:\n",
        "\n",
        "        # Se cuenta y, además, se agrega a un listado aparte del listado principal\n",
        "        listado_aviso_90_dias.append(org)\n",
        "        org_menos_de_90_dias += 1\n",
        "\n",
        "    # Por último, se agregan las organizaciones vigentes como información.\n",
        "    else:\n",
        "        org_vigentes += 1\n",
        "\n",
        "print(f\"Organizaciones vencidas: {org_vencidas}\")\n",
        "print(f\"Organizaciones para dar aviso: {org_menos_de_90_dias}\")\n",
        "print(f\"Organizaciones vigentes: {org_vigentes}\")\n"
      ],
      "metadata": {
        "colab": {
          "base_uri": "https://localhost:8080/"
        },
        "id": "KFvaXYWWwKac",
        "outputId": "4101c85f-14e7-4820-ec2f-d57d31e06e2a"
      },
      "execution_count": null,
      "outputs": [
        {
          "output_type": "stream",
          "name": "stdout",
          "text": [
            "Organizaciones vencidas: 2513\n",
            "Organizaciones para dar aviso: 109\n",
            "Organizaciones vigentes: 404\n"
          ]
        }
      ]
    },
    {
      "cell_type": "code",
      "source": [
        "# A modo de ejemplo se imprime una muestra de 5 organizaciones\n",
        "# a punto de perder su vigencia.\n",
        "print(\"Listado de organizaciones para dar aviso de renovación:\")\n",
        "for org in listado_aviso_90_dias[:5]:\n",
        "    print(f\"Razón social: {org['RAZON SOCIAL']}, Fecha vigencia: {org['VIGENCIA']}\")"
      ],
      "metadata": {
        "colab": {
          "base_uri": "https://localhost:8080/"
        },
        "id": "iZjQ_HFY6xWU",
        "outputId": "ca567aa5-86c6-4e78-9390-c8d6b92ff1e9"
      },
      "execution_count": null,
      "outputs": [
        {
          "output_type": "stream",
          "name": "stdout",
          "text": [
            "Listado de organizaciones para dar aviso de renovación:\n",
            "Razón social: AGRUPACION SOCIAL Y CULTURAL VALOR Y DIGNIDAD, Fecha vigencia: 05-11-2023\n",
            "Razón social: CLUB DEPORTIVO LA CHACRA DE MI ABUELO, Fecha vigencia: 05-11-2023\n",
            "Razón social: COMUNIDAD SOCIAL Y CULTURAL VIOLETA PARRA, Fecha vigencia: 05-11-2023\n",
            "Razón social: AGRUPACION CULTURAL Y SOCIAL SOLIDARIA, Fecha vigencia: 05-11-2023\n",
            "Razón social: COMITÉ EN DEFENSA DEL PUENTE COLGANTE, Fecha vigencia: 05-11-2023\n"
          ]
        }
      ]
    },
    {
      "cell_type": "markdown",
      "source": [
        "De este último listado se puede cambiar la impresión por datos de sus dirigentes para tener un listado de contactos y activar un protocolo de acercamiento y acompañamiento para la renovación de su vigencia.\n",
        "Del mismo modo, la flexibilidad del código permite que se pueda hacer algo similar con las organizaciones que ya perdieron su vigencia, se puede priorizar por cantidad de tiempo de pérdida de vigencia, etc.\n",
        "En definitiva, es posible optimizar recursos, sobre todo tiempo, tanto para el personal encargado de estas tareas como para las organizaciones de la comuna."
      ],
      "metadata": {
        "id": "-CzI25H-Doz0"
      }
    }
  ]
}