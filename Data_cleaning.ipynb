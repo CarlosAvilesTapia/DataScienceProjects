{
  "nbformat": 4,
  "nbformat_minor": 0,
  "metadata": {
    "colab": {
      "provenance": [],
      "toc_visible": true
    },
    "kernelspec": {
      "name": "python3",
      "display_name": "Python 3"
    },
    "language_info": {
      "name": "python"
    }
  },
  "cells": [
    {
      "cell_type": "markdown",
      "source": [
        "# __Casos de uso__\n",
        "## Grupo 01\n",
        "## Módulo 02: Obtención y preparación de datos"
      ],
      "metadata": {
        "id": "f4dB0RvpaVuP"
      }
    },
    {
      "cell_type": "markdown",
      "source": [
        "#<font color='blue'>**Caso de uso: Carlos Avilés Tapia**</font>\n",
        "##***Título: Limpieza de datos de un DataFrame con Pandas***\n",
        "\n",
        "  Para este ejercicio, se utilizará la base de datos de organizaciones sin fines de lucro del Servicio de registro civil e identificación. El cual se compone de todas las organizaciones constituídas en el país.\n",
        "\n",
        "  Dicha información ha sido enviada históricamente por el Ministerio de justicia y derechos humanos y por las municipalidades del país, sin embargo, dicha información, al actualizarse mensualmente, presenta inconsistencias y desprolijidades que dificultan cualquier tipo de análisis que se pretenda realizar con dichos datos.\n",
        "\n",
        "  Es así que se utilizarán los métodos incluídos en la biblioteca Pandas para limpiar dicha base de datos y poder tener a disposición datos que permitan extraer información relevante.\n",
        "\n",
        "  Para este caso en particular, se utilizarán exclusivamente los datos corresponientes a la región de Valparaíso, sin perjuicio de poder ampliar el alcance de este ejercicio al resto de las regiones incorporadas en este registro."
      ],
      "metadata": {
        "id": "UbpVp6_Sa0xb"
      }
    },
    {
      "cell_type": "code",
      "source": [
        "# En primer lugar se monta el drive para extraer el archivo.\n",
        "from google.colab import drive\n",
        "drive.mount(\"/content/drive\", force_remount=True)"
      ],
      "metadata": {
        "colab": {
          "base_uri": "https://localhost:8080/"
        },
        "id": "Vu-VuwZVb0OF",
        "outputId": "08f275e8-672b-4c2f-d3a0-3210d4cd64e8"
      },
      "execution_count": null,
      "outputs": [
        {
          "output_type": "stream",
          "name": "stdout",
          "text": [
            "Mounted at /content/drive\n"
          ]
        }
      ]
    },
    {
      "cell_type": "code",
      "source": [
        "# Se importa la bliblioteca Pandas con la que trabajará en el ejercicio.\n",
        "import pandas as pd"
      ],
      "metadata": {
        "id": "RxcNt8g_cMAh"
      },
      "execution_count": null,
      "outputs": []
    },
    {
      "cell_type": "code",
      "source": [
        "# Se define el archivo con el que se va a trabajar.\n",
        "ruta_archivo_excel = \"/content/drive/MyDrive/Archivos/RPJ_2012_a_2023_Valparaiso.xlsx\"\n",
        "\n",
        "# Se lee el archivo Excel y se crea un DataFrame.\n",
        "df_organizaciones = pd.read_excel(ruta_archivo_excel)"
      ],
      "metadata": {
        "id": "--ptyaU_cQEC"
      },
      "execution_count": null,
      "outputs": []
    },
    {
      "cell_type": "code",
      "source": [
        "df_organizaciones.sample(5)"
      ],
      "metadata": {
        "colab": {
          "base_uri": "https://localhost:8080/",
          "height": 573
        },
        "id": "kd0nb11hdsHK",
        "outputId": "6d70090f-82bc-41c7-eba3-22894c71dcb7"
      },
      "execution_count": null,
      "outputs": [
        {
          "output_type": "execute_result",
          "data": {
            "text/plain": [
              "       NRO DE INSCRIPCION                                          NOMBRE PJ  \\\n",
              "23167              268311                      FUNDACION EDUCACIONAL MAMURIK   \n",
              "29248              286567           AGRUPACION SOCIAL FIBROMALGIA FIBROAYUDO   \n",
              "20200               73266  CLUB DE ADULTO MAYOR SAGRADO CORAZON DE TEJAS ...   \n",
              "185                 73514                         COMITÉ HABITACIONAL FUTURO   \n",
              "7896               225943  CENTRO DE APOYO AL DEPORTISTA INFANTO-JUVENIL ...   \n",
              "\n",
              "                RUT         ORIGEN  \\\n",
              "23167  NO INFORMADO  MUNICIPALIDAD   \n",
              "29248  NO INFORMADO  MUNICIPALIDAD   \n",
              "20200            00  MUNICIPALIDAD   \n",
              "185    NO INFORMADO  MUNICIPALIDAD   \n",
              "7896   NO INFORMADO  MUNICIPALIDAD   \n",
              "\n",
              "                                                  COMUNA  \\\n",
              "23167  CASABLANCA                                    ...   \n",
              "29248  SAN ANTONIO                                   ...   \n",
              "20200  SAN ANTONIO                                   ...   \n",
              "185    SAN ANTONIO                                   ...   \n",
              "7896   VIÑA DEL MAR                                  ...   \n",
              "\n",
              "                                                  REGION  \\\n",
              "23167  REGION DE VALPARAISO                          ...   \n",
              "29248  REGION DE VALPARAISO                          ...   \n",
              "20200  REGION DE VALPARAISO                          ...   \n",
              "185    REGION DE VALPARAISO                          ...   \n",
              "7896   REGION DE VALPARAISO                          ...   \n",
              "\n",
              "                                          DIRECCION                    TIPO  \\\n",
              "23167                                           S/I               FUNDACION   \n",
              "29248     BROKMAN N° 1700, 30 DE MARZO, SAN ANTONIO  ORGANIZACIÓN FUNCIONAL   \n",
              "20200                       AVENIDA ARRAYAN N° 1060     COMUNITARIA/VECINAL   \n",
              "185                                             S/I     COMUNITARIA/VECINAL   \n",
              "7896   A.V FREI / AMPL VILLA DULCE 311 VIÑA DEL MAR     COMUNITARIA/VECINAL   \n",
              "\n",
              "        FECHA DE CONCESION FECHA DE INSCRIPCION        CLASIFICACION   ESTADO  \n",
              "23167           19-12-2017           19-12-2017            EDUCACION  VIGENTE  \n",
              "29248           24-12-2018           07-02-2019  AGRUPACION DE SALUD  VIGENTE  \n",
              "20200           17-06-2003           23-05-2013  CENTRO ADULTO MAYOR  VIGENTE  \n",
              "185    1990-01-01 00:00:00           23-05-2013                  NaN  VIGENTE  \n",
              "7896            07-08-2008           02-05-2016                  NaN  VIGENTE  "
            ],
            "text/html": [
              "\n",
              "  <div id=\"df-5240f0ad-d5a2-42a9-bcfe-75854661b5f9\" class=\"colab-df-container\">\n",
              "    <div>\n",
              "<style scoped>\n",
              "    .dataframe tbody tr th:only-of-type {\n",
              "        vertical-align: middle;\n",
              "    }\n",
              "\n",
              "    .dataframe tbody tr th {\n",
              "        vertical-align: top;\n",
              "    }\n",
              "\n",
              "    .dataframe thead th {\n",
              "        text-align: right;\n",
              "    }\n",
              "</style>\n",
              "<table border=\"1\" class=\"dataframe\">\n",
              "  <thead>\n",
              "    <tr style=\"text-align: right;\">\n",
              "      <th></th>\n",
              "      <th>NRO DE INSCRIPCION</th>\n",
              "      <th>NOMBRE PJ</th>\n",
              "      <th>RUT</th>\n",
              "      <th>ORIGEN</th>\n",
              "      <th>COMUNA</th>\n",
              "      <th>REGION</th>\n",
              "      <th>DIRECCION</th>\n",
              "      <th>TIPO</th>\n",
              "      <th>FECHA DE CONCESION</th>\n",
              "      <th>FECHA DE INSCRIPCION</th>\n",
              "      <th>CLASIFICACION</th>\n",
              "      <th>ESTADO</th>\n",
              "    </tr>\n",
              "  </thead>\n",
              "  <tbody>\n",
              "    <tr>\n",
              "      <th>23167</th>\n",
              "      <td>268311</td>\n",
              "      <td>FUNDACION EDUCACIONAL MAMURIK</td>\n",
              "      <td>NO INFORMADO</td>\n",
              "      <td>MUNICIPALIDAD</td>\n",
              "      <td>CASABLANCA                                    ...</td>\n",
              "      <td>REGION DE VALPARAISO                          ...</td>\n",
              "      <td>S/I</td>\n",
              "      <td>FUNDACION</td>\n",
              "      <td>19-12-2017</td>\n",
              "      <td>19-12-2017</td>\n",
              "      <td>EDUCACION</td>\n",
              "      <td>VIGENTE</td>\n",
              "    </tr>\n",
              "    <tr>\n",
              "      <th>29248</th>\n",
              "      <td>286567</td>\n",
              "      <td>AGRUPACION SOCIAL FIBROMALGIA FIBROAYUDO</td>\n",
              "      <td>NO INFORMADO</td>\n",
              "      <td>MUNICIPALIDAD</td>\n",
              "      <td>SAN ANTONIO                                   ...</td>\n",
              "      <td>REGION DE VALPARAISO                          ...</td>\n",
              "      <td>BROKMAN N° 1700, 30 DE MARZO, SAN ANTONIO</td>\n",
              "      <td>ORGANIZACIÓN FUNCIONAL</td>\n",
              "      <td>24-12-2018</td>\n",
              "      <td>07-02-2019</td>\n",
              "      <td>AGRUPACION DE SALUD</td>\n",
              "      <td>VIGENTE</td>\n",
              "    </tr>\n",
              "    <tr>\n",
              "      <th>20200</th>\n",
              "      <td>73266</td>\n",
              "      <td>CLUB DE ADULTO MAYOR SAGRADO CORAZON DE TEJAS ...</td>\n",
              "      <td>00</td>\n",
              "      <td>MUNICIPALIDAD</td>\n",
              "      <td>SAN ANTONIO                                   ...</td>\n",
              "      <td>REGION DE VALPARAISO                          ...</td>\n",
              "      <td>AVENIDA ARRAYAN N° 1060</td>\n",
              "      <td>COMUNITARIA/VECINAL</td>\n",
              "      <td>17-06-2003</td>\n",
              "      <td>23-05-2013</td>\n",
              "      <td>CENTRO ADULTO MAYOR</td>\n",
              "      <td>VIGENTE</td>\n",
              "    </tr>\n",
              "    <tr>\n",
              "      <th>185</th>\n",
              "      <td>73514</td>\n",
              "      <td>COMITÉ HABITACIONAL FUTURO</td>\n",
              "      <td>NO INFORMADO</td>\n",
              "      <td>MUNICIPALIDAD</td>\n",
              "      <td>SAN ANTONIO                                   ...</td>\n",
              "      <td>REGION DE VALPARAISO                          ...</td>\n",
              "      <td>S/I</td>\n",
              "      <td>COMUNITARIA/VECINAL</td>\n",
              "      <td>1990-01-01 00:00:00</td>\n",
              "      <td>23-05-2013</td>\n",
              "      <td>NaN</td>\n",
              "      <td>VIGENTE</td>\n",
              "    </tr>\n",
              "    <tr>\n",
              "      <th>7896</th>\n",
              "      <td>225943</td>\n",
              "      <td>CENTRO DE APOYO AL DEPORTISTA INFANTO-JUVENIL ...</td>\n",
              "      <td>NO INFORMADO</td>\n",
              "      <td>MUNICIPALIDAD</td>\n",
              "      <td>VIÑA DEL MAR                                  ...</td>\n",
              "      <td>REGION DE VALPARAISO                          ...</td>\n",
              "      <td>A.V FREI / AMPL VILLA DULCE 311 VIÑA DEL MAR</td>\n",
              "      <td>COMUNITARIA/VECINAL</td>\n",
              "      <td>07-08-2008</td>\n",
              "      <td>02-05-2016</td>\n",
              "      <td>NaN</td>\n",
              "      <td>VIGENTE</td>\n",
              "    </tr>\n",
              "  </tbody>\n",
              "</table>\n",
              "</div>\n",
              "    <div class=\"colab-df-buttons\">\n",
              "\n",
              "  <div class=\"colab-df-container\">\n",
              "    <button class=\"colab-df-convert\" onclick=\"convertToInteractive('df-5240f0ad-d5a2-42a9-bcfe-75854661b5f9')\"\n",
              "            title=\"Convert this dataframe to an interactive table.\"\n",
              "            style=\"display:none;\">\n",
              "\n",
              "  <svg xmlns=\"http://www.w3.org/2000/svg\" height=\"24px\" viewBox=\"0 -960 960 960\">\n",
              "    <path d=\"M120-120v-720h720v720H120Zm60-500h600v-160H180v160Zm220 220h160v-160H400v160Zm0 220h160v-160H400v160ZM180-400h160v-160H180v160Zm440 0h160v-160H620v160ZM180-180h160v-160H180v160Zm440 0h160v-160H620v160Z\"/>\n",
              "  </svg>\n",
              "    </button>\n",
              "\n",
              "  <style>\n",
              "    .colab-df-container {\n",
              "      display:flex;\n",
              "      gap: 12px;\n",
              "    }\n",
              "\n",
              "    .colab-df-convert {\n",
              "      background-color: #E8F0FE;\n",
              "      border: none;\n",
              "      border-radius: 50%;\n",
              "      cursor: pointer;\n",
              "      display: none;\n",
              "      fill: #1967D2;\n",
              "      height: 32px;\n",
              "      padding: 0 0 0 0;\n",
              "      width: 32px;\n",
              "    }\n",
              "\n",
              "    .colab-df-convert:hover {\n",
              "      background-color: #E2EBFA;\n",
              "      box-shadow: 0px 1px 2px rgba(60, 64, 67, 0.3), 0px 1px 3px 1px rgba(60, 64, 67, 0.15);\n",
              "      fill: #174EA6;\n",
              "    }\n",
              "\n",
              "    .colab-df-buttons div {\n",
              "      margin-bottom: 4px;\n",
              "    }\n",
              "\n",
              "    [theme=dark] .colab-df-convert {\n",
              "      background-color: #3B4455;\n",
              "      fill: #D2E3FC;\n",
              "    }\n",
              "\n",
              "    [theme=dark] .colab-df-convert:hover {\n",
              "      background-color: #434B5C;\n",
              "      box-shadow: 0px 1px 3px 1px rgba(0, 0, 0, 0.15);\n",
              "      filter: drop-shadow(0px 1px 2px rgba(0, 0, 0, 0.3));\n",
              "      fill: #FFFFFF;\n",
              "    }\n",
              "  </style>\n",
              "\n",
              "    <script>\n",
              "      const buttonEl =\n",
              "        document.querySelector('#df-5240f0ad-d5a2-42a9-bcfe-75854661b5f9 button.colab-df-convert');\n",
              "      buttonEl.style.display =\n",
              "        google.colab.kernel.accessAllowed ? 'block' : 'none';\n",
              "\n",
              "      async function convertToInteractive(key) {\n",
              "        const element = document.querySelector('#df-5240f0ad-d5a2-42a9-bcfe-75854661b5f9');\n",
              "        const dataTable =\n",
              "          await google.colab.kernel.invokeFunction('convertToInteractive',\n",
              "                                                    [key], {});\n",
              "        if (!dataTable) return;\n",
              "\n",
              "        const docLinkHtml = 'Like what you see? Visit the ' +\n",
              "          '<a target=\"_blank\" href=https://colab.research.google.com/notebooks/data_table.ipynb>data table notebook</a>'\n",
              "          + ' to learn more about interactive tables.';\n",
              "        element.innerHTML = '';\n",
              "        dataTable['output_type'] = 'display_data';\n",
              "        await google.colab.output.renderOutput(dataTable, element);\n",
              "        const docLink = document.createElement('div');\n",
              "        docLink.innerHTML = docLinkHtml;\n",
              "        element.appendChild(docLink);\n",
              "      }\n",
              "    </script>\n",
              "  </div>\n",
              "\n",
              "\n",
              "<div id=\"df-40291da5-1c03-4b8a-8fba-e1255450928e\">\n",
              "  <button class=\"colab-df-quickchart\" onclick=\"quickchart('df-40291da5-1c03-4b8a-8fba-e1255450928e')\"\n",
              "            title=\"Suggest charts.\"\n",
              "            style=\"display:none;\">\n",
              "\n",
              "<svg xmlns=\"http://www.w3.org/2000/svg\" height=\"24px\"viewBox=\"0 0 24 24\"\n",
              "     width=\"24px\">\n",
              "    <g>\n",
              "        <path d=\"M19 3H5c-1.1 0-2 .9-2 2v14c0 1.1.9 2 2 2h14c1.1 0 2-.9 2-2V5c0-1.1-.9-2-2-2zM9 17H7v-7h2v7zm4 0h-2V7h2v10zm4 0h-2v-4h2v4z\"/>\n",
              "    </g>\n",
              "</svg>\n",
              "  </button>\n",
              "\n",
              "<style>\n",
              "  .colab-df-quickchart {\n",
              "      --bg-color: #E8F0FE;\n",
              "      --fill-color: #1967D2;\n",
              "      --hover-bg-color: #E2EBFA;\n",
              "      --hover-fill-color: #174EA6;\n",
              "      --disabled-fill-color: #AAA;\n",
              "      --disabled-bg-color: #DDD;\n",
              "  }\n",
              "\n",
              "  [theme=dark] .colab-df-quickchart {\n",
              "      --bg-color: #3B4455;\n",
              "      --fill-color: #D2E3FC;\n",
              "      --hover-bg-color: #434B5C;\n",
              "      --hover-fill-color: #FFFFFF;\n",
              "      --disabled-bg-color: #3B4455;\n",
              "      --disabled-fill-color: #666;\n",
              "  }\n",
              "\n",
              "  .colab-df-quickchart {\n",
              "    background-color: var(--bg-color);\n",
              "    border: none;\n",
              "    border-radius: 50%;\n",
              "    cursor: pointer;\n",
              "    display: none;\n",
              "    fill: var(--fill-color);\n",
              "    height: 32px;\n",
              "    padding: 0;\n",
              "    width: 32px;\n",
              "  }\n",
              "\n",
              "  .colab-df-quickchart:hover {\n",
              "    background-color: var(--hover-bg-color);\n",
              "    box-shadow: 0 1px 2px rgba(60, 64, 67, 0.3), 0 1px 3px 1px rgba(60, 64, 67, 0.15);\n",
              "    fill: var(--button-hover-fill-color);\n",
              "  }\n",
              "\n",
              "  .colab-df-quickchart-complete:disabled,\n",
              "  .colab-df-quickchart-complete:disabled:hover {\n",
              "    background-color: var(--disabled-bg-color);\n",
              "    fill: var(--disabled-fill-color);\n",
              "    box-shadow: none;\n",
              "  }\n",
              "\n",
              "  .colab-df-spinner {\n",
              "    border: 2px solid var(--fill-color);\n",
              "    border-color: transparent;\n",
              "    border-bottom-color: var(--fill-color);\n",
              "    animation:\n",
              "      spin 1s steps(1) infinite;\n",
              "  }\n",
              "\n",
              "  @keyframes spin {\n",
              "    0% {\n",
              "      border-color: transparent;\n",
              "      border-bottom-color: var(--fill-color);\n",
              "      border-left-color: var(--fill-color);\n",
              "    }\n",
              "    20% {\n",
              "      border-color: transparent;\n",
              "      border-left-color: var(--fill-color);\n",
              "      border-top-color: var(--fill-color);\n",
              "    }\n",
              "    30% {\n",
              "      border-color: transparent;\n",
              "      border-left-color: var(--fill-color);\n",
              "      border-top-color: var(--fill-color);\n",
              "      border-right-color: var(--fill-color);\n",
              "    }\n",
              "    40% {\n",
              "      border-color: transparent;\n",
              "      border-right-color: var(--fill-color);\n",
              "      border-top-color: var(--fill-color);\n",
              "    }\n",
              "    60% {\n",
              "      border-color: transparent;\n",
              "      border-right-color: var(--fill-color);\n",
              "    }\n",
              "    80% {\n",
              "      border-color: transparent;\n",
              "      border-right-color: var(--fill-color);\n",
              "      border-bottom-color: var(--fill-color);\n",
              "    }\n",
              "    90% {\n",
              "      border-color: transparent;\n",
              "      border-bottom-color: var(--fill-color);\n",
              "    }\n",
              "  }\n",
              "</style>\n",
              "\n",
              "  <script>\n",
              "    async function quickchart(key) {\n",
              "      const quickchartButtonEl =\n",
              "        document.querySelector('#' + key + ' button');\n",
              "      quickchartButtonEl.disabled = true;  // To prevent multiple clicks.\n",
              "      quickchartButtonEl.classList.add('colab-df-spinner');\n",
              "      try {\n",
              "        const charts = await google.colab.kernel.invokeFunction(\n",
              "            'suggestCharts', [key], {});\n",
              "      } catch (error) {\n",
              "        console.error('Error during call to suggestCharts:', error);\n",
              "      }\n",
              "      quickchartButtonEl.classList.remove('colab-df-spinner');\n",
              "      quickchartButtonEl.classList.add('colab-df-quickchart-complete');\n",
              "    }\n",
              "    (() => {\n",
              "      let quickchartButtonEl =\n",
              "        document.querySelector('#df-40291da5-1c03-4b8a-8fba-e1255450928e button');\n",
              "      quickchartButtonEl.style.display =\n",
              "        google.colab.kernel.accessAllowed ? 'block' : 'none';\n",
              "    })();\n",
              "  </script>\n",
              "</div>\n",
              "    </div>\n",
              "  </div>\n"
            ]
          },
          "metadata": {},
          "execution_count": 4
        }
      ]
    },
    {
      "cell_type": "code",
      "source": [
        "# Con la función len() es posible ver la cantidad de registros del dataframe.\n",
        "print(f'El dataframe original contiene {len(df_organizaciones)} registros.')"
      ],
      "metadata": {
        "colab": {
          "base_uri": "https://localhost:8080/"
        },
        "id": "itEtNeOVd0V_",
        "outputId": "abd62714-103d-4f6d-c943-fdfd05143e2c"
      },
      "execution_count": null,
      "outputs": [
        {
          "output_type": "stream",
          "name": "stdout",
          "text": [
            "El dataframe original contiene 37628 registros.\n"
          ]
        }
      ]
    },
    {
      "cell_type": "code",
      "source": [
        "# Lo primero es comprobar la existencia de registros duplicados.\n",
        "duplicados = df_organizaciones.duplicated()\n",
        "print(f'El dataframe contiene {duplicados.sum()} registros duplicados.')"
      ],
      "metadata": {
        "colab": {
          "base_uri": "https://localhost:8080/"
        },
        "id": "RHftSn1jN2V9",
        "outputId": "c06fdbfd-3314-4e9e-8da7-40e6988706b3"
      },
      "execution_count": null,
      "outputs": [
        {
          "output_type": "stream",
          "name": "stdout",
          "text": [
            "El dataframe contiene 0 registros duplicados.\n"
          ]
        }
      ]
    },
    {
      "cell_type": "code",
      "source": [
        "# De la muestra del dataframe, hay columnas que no aportan información relevante, por lo que se eliminarán.\n",
        "columnas_a_eliminar = ['RUT', 'ORIGEN', 'REGION']\n",
        "df_organizaciones = df_organizaciones.drop(columns = columnas_a_eliminar)\n",
        "df_organizaciones.sample(5)"
      ],
      "metadata": {
        "colab": {
          "base_uri": "https://localhost:8080/",
          "height": 345
        },
        "id": "AeSB27zBgua_",
        "outputId": "da271fdb-c3e1-4524-edf7-da1ce54c0ace"
      },
      "execution_count": null,
      "outputs": [
        {
          "output_type": "execute_result",
          "data": {
            "text/plain": [
              "       NRO DE INSCRIPCION                               NOMBRE PJ  \\\n",
              "5788                13527              MUTUAL DE SEGUROS DE CHILE   \n",
              "17412              228207    JUNTA DE VECINOS JOSE MIGUEL CARRERA   \n",
              "17382              214471              JUNTA DE VECINOS EL TRIGAL   \n",
              "18096              279458                FUNDACION AMDA LLAY LLAY   \n",
              "5618               184040  CLUB DE ADULTO MAYOR RENACER SANTA ANA   \n",
              "\n",
              "                                                  COMUNA  \\\n",
              "5788   VALPARAÍSO                                    ...   \n",
              "17412  CALERA                                        ...   \n",
              "17382  CALERA                                        ...   \n",
              "18096  LLAILLAY                                      ...   \n",
              "5618   NOGALES                                       ...   \n",
              "\n",
              "                                      DIRECCION                      TIPO  \\\n",
              "5788                                 MOLINA 446               CORPORACION   \n",
              "17412  CARRERA PSJE. FERROVIARIO Nº 1 LA CALERA  ORGANIZACIÓN TERRITORIAL   \n",
              "17382                        AVDA. MARATHON 312  ORGANIZACIÓN TERRITORIAL   \n",
              "18096                  BALMACEDA N°214 DEPTO.32                 FUNDACION   \n",
              "5618                   CAPILLA EL OLIVO NOGALES       COMUNITARIA/VECINAL   \n",
              "\n",
              "      FECHA DE CONCESION FECHA DE INSCRIPCION                   CLASIFICACION  \\\n",
              "5788          05-11-1919           31-01-2013                           OTRAS   \n",
              "17412         15-02-1990           02-05-2016  JUNTA DE VECINOS O CONDOMINIOS   \n",
              "17382         15-02-1990           18-12-2015  JUNTA DE VECINOS O CONDOMINIOS   \n",
              "18096         15-08-2018           15-08-2018                             N/D   \n",
              "5618          05-09-2000           07-10-2014                             NaN   \n",
              "\n",
              "        ESTADO  \n",
              "5788   VIGENTE  \n",
              "17412  VIGENTE  \n",
              "17382  VIGENTE  \n",
              "18096  VIGENTE  \n",
              "5618   VIGENTE  "
            ],
            "text/html": [
              "\n",
              "  <div id=\"df-808e75c4-a40b-4940-b777-43346c4085b7\" class=\"colab-df-container\">\n",
              "    <div>\n",
              "<style scoped>\n",
              "    .dataframe tbody tr th:only-of-type {\n",
              "        vertical-align: middle;\n",
              "    }\n",
              "\n",
              "    .dataframe tbody tr th {\n",
              "        vertical-align: top;\n",
              "    }\n",
              "\n",
              "    .dataframe thead th {\n",
              "        text-align: right;\n",
              "    }\n",
              "</style>\n",
              "<table border=\"1\" class=\"dataframe\">\n",
              "  <thead>\n",
              "    <tr style=\"text-align: right;\">\n",
              "      <th></th>\n",
              "      <th>NRO DE INSCRIPCION</th>\n",
              "      <th>NOMBRE PJ</th>\n",
              "      <th>COMUNA</th>\n",
              "      <th>DIRECCION</th>\n",
              "      <th>TIPO</th>\n",
              "      <th>FECHA DE CONCESION</th>\n",
              "      <th>FECHA DE INSCRIPCION</th>\n",
              "      <th>CLASIFICACION</th>\n",
              "      <th>ESTADO</th>\n",
              "    </tr>\n",
              "  </thead>\n",
              "  <tbody>\n",
              "    <tr>\n",
              "      <th>5788</th>\n",
              "      <td>13527</td>\n",
              "      <td>MUTUAL DE SEGUROS DE CHILE</td>\n",
              "      <td>VALPARAÍSO                                    ...</td>\n",
              "      <td>MOLINA 446</td>\n",
              "      <td>CORPORACION</td>\n",
              "      <td>05-11-1919</td>\n",
              "      <td>31-01-2013</td>\n",
              "      <td>OTRAS</td>\n",
              "      <td>VIGENTE</td>\n",
              "    </tr>\n",
              "    <tr>\n",
              "      <th>17412</th>\n",
              "      <td>228207</td>\n",
              "      <td>JUNTA DE VECINOS JOSE MIGUEL CARRERA</td>\n",
              "      <td>CALERA                                        ...</td>\n",
              "      <td>CARRERA PSJE. FERROVIARIO Nº 1 LA CALERA</td>\n",
              "      <td>ORGANIZACIÓN TERRITORIAL</td>\n",
              "      <td>15-02-1990</td>\n",
              "      <td>02-05-2016</td>\n",
              "      <td>JUNTA DE VECINOS O CONDOMINIOS</td>\n",
              "      <td>VIGENTE</td>\n",
              "    </tr>\n",
              "    <tr>\n",
              "      <th>17382</th>\n",
              "      <td>214471</td>\n",
              "      <td>JUNTA DE VECINOS EL TRIGAL</td>\n",
              "      <td>CALERA                                        ...</td>\n",
              "      <td>AVDA. MARATHON 312</td>\n",
              "      <td>ORGANIZACIÓN TERRITORIAL</td>\n",
              "      <td>15-02-1990</td>\n",
              "      <td>18-12-2015</td>\n",
              "      <td>JUNTA DE VECINOS O CONDOMINIOS</td>\n",
              "      <td>VIGENTE</td>\n",
              "    </tr>\n",
              "    <tr>\n",
              "      <th>18096</th>\n",
              "      <td>279458</td>\n",
              "      <td>FUNDACION AMDA LLAY LLAY</td>\n",
              "      <td>LLAILLAY                                      ...</td>\n",
              "      <td>BALMACEDA N°214 DEPTO.32</td>\n",
              "      <td>FUNDACION</td>\n",
              "      <td>15-08-2018</td>\n",
              "      <td>15-08-2018</td>\n",
              "      <td>N/D</td>\n",
              "      <td>VIGENTE</td>\n",
              "    </tr>\n",
              "    <tr>\n",
              "      <th>5618</th>\n",
              "      <td>184040</td>\n",
              "      <td>CLUB DE ADULTO MAYOR RENACER SANTA ANA</td>\n",
              "      <td>NOGALES                                       ...</td>\n",
              "      <td>CAPILLA EL OLIVO NOGALES</td>\n",
              "      <td>COMUNITARIA/VECINAL</td>\n",
              "      <td>05-09-2000</td>\n",
              "      <td>07-10-2014</td>\n",
              "      <td>NaN</td>\n",
              "      <td>VIGENTE</td>\n",
              "    </tr>\n",
              "  </tbody>\n",
              "</table>\n",
              "</div>\n",
              "    <div class=\"colab-df-buttons\">\n",
              "\n",
              "  <div class=\"colab-df-container\">\n",
              "    <button class=\"colab-df-convert\" onclick=\"convertToInteractive('df-808e75c4-a40b-4940-b777-43346c4085b7')\"\n",
              "            title=\"Convert this dataframe to an interactive table.\"\n",
              "            style=\"display:none;\">\n",
              "\n",
              "  <svg xmlns=\"http://www.w3.org/2000/svg\" height=\"24px\" viewBox=\"0 -960 960 960\">\n",
              "    <path d=\"M120-120v-720h720v720H120Zm60-500h600v-160H180v160Zm220 220h160v-160H400v160Zm0 220h160v-160H400v160ZM180-400h160v-160H180v160Zm440 0h160v-160H620v160ZM180-180h160v-160H180v160Zm440 0h160v-160H620v160Z\"/>\n",
              "  </svg>\n",
              "    </button>\n",
              "\n",
              "  <style>\n",
              "    .colab-df-container {\n",
              "      display:flex;\n",
              "      gap: 12px;\n",
              "    }\n",
              "\n",
              "    .colab-df-convert {\n",
              "      background-color: #E8F0FE;\n",
              "      border: none;\n",
              "      border-radius: 50%;\n",
              "      cursor: pointer;\n",
              "      display: none;\n",
              "      fill: #1967D2;\n",
              "      height: 32px;\n",
              "      padding: 0 0 0 0;\n",
              "      width: 32px;\n",
              "    }\n",
              "\n",
              "    .colab-df-convert:hover {\n",
              "      background-color: #E2EBFA;\n",
              "      box-shadow: 0px 1px 2px rgba(60, 64, 67, 0.3), 0px 1px 3px 1px rgba(60, 64, 67, 0.15);\n",
              "      fill: #174EA6;\n",
              "    }\n",
              "\n",
              "    .colab-df-buttons div {\n",
              "      margin-bottom: 4px;\n",
              "    }\n",
              "\n",
              "    [theme=dark] .colab-df-convert {\n",
              "      background-color: #3B4455;\n",
              "      fill: #D2E3FC;\n",
              "    }\n",
              "\n",
              "    [theme=dark] .colab-df-convert:hover {\n",
              "      background-color: #434B5C;\n",
              "      box-shadow: 0px 1px 3px 1px rgba(0, 0, 0, 0.15);\n",
              "      filter: drop-shadow(0px 1px 2px rgba(0, 0, 0, 0.3));\n",
              "      fill: #FFFFFF;\n",
              "    }\n",
              "  </style>\n",
              "\n",
              "    <script>\n",
              "      const buttonEl =\n",
              "        document.querySelector('#df-808e75c4-a40b-4940-b777-43346c4085b7 button.colab-df-convert');\n",
              "      buttonEl.style.display =\n",
              "        google.colab.kernel.accessAllowed ? 'block' : 'none';\n",
              "\n",
              "      async function convertToInteractive(key) {\n",
              "        const element = document.querySelector('#df-808e75c4-a40b-4940-b777-43346c4085b7');\n",
              "        const dataTable =\n",
              "          await google.colab.kernel.invokeFunction('convertToInteractive',\n",
              "                                                    [key], {});\n",
              "        if (!dataTable) return;\n",
              "\n",
              "        const docLinkHtml = 'Like what you see? Visit the ' +\n",
              "          '<a target=\"_blank\" href=https://colab.research.google.com/notebooks/data_table.ipynb>data table notebook</a>'\n",
              "          + ' to learn more about interactive tables.';\n",
              "        element.innerHTML = '';\n",
              "        dataTable['output_type'] = 'display_data';\n",
              "        await google.colab.output.renderOutput(dataTable, element);\n",
              "        const docLink = document.createElement('div');\n",
              "        docLink.innerHTML = docLinkHtml;\n",
              "        element.appendChild(docLink);\n",
              "      }\n",
              "    </script>\n",
              "  </div>\n",
              "\n",
              "\n",
              "<div id=\"df-bc767d73-a91e-4883-ab9c-e53bd30be850\">\n",
              "  <button class=\"colab-df-quickchart\" onclick=\"quickchart('df-bc767d73-a91e-4883-ab9c-e53bd30be850')\"\n",
              "            title=\"Suggest charts.\"\n",
              "            style=\"display:none;\">\n",
              "\n",
              "<svg xmlns=\"http://www.w3.org/2000/svg\" height=\"24px\"viewBox=\"0 0 24 24\"\n",
              "     width=\"24px\">\n",
              "    <g>\n",
              "        <path d=\"M19 3H5c-1.1 0-2 .9-2 2v14c0 1.1.9 2 2 2h14c1.1 0 2-.9 2-2V5c0-1.1-.9-2-2-2zM9 17H7v-7h2v7zm4 0h-2V7h2v10zm4 0h-2v-4h2v4z\"/>\n",
              "    </g>\n",
              "</svg>\n",
              "  </button>\n",
              "\n",
              "<style>\n",
              "  .colab-df-quickchart {\n",
              "      --bg-color: #E8F0FE;\n",
              "      --fill-color: #1967D2;\n",
              "      --hover-bg-color: #E2EBFA;\n",
              "      --hover-fill-color: #174EA6;\n",
              "      --disabled-fill-color: #AAA;\n",
              "      --disabled-bg-color: #DDD;\n",
              "  }\n",
              "\n",
              "  [theme=dark] .colab-df-quickchart {\n",
              "      --bg-color: #3B4455;\n",
              "      --fill-color: #D2E3FC;\n",
              "      --hover-bg-color: #434B5C;\n",
              "      --hover-fill-color: #FFFFFF;\n",
              "      --disabled-bg-color: #3B4455;\n",
              "      --disabled-fill-color: #666;\n",
              "  }\n",
              "\n",
              "  .colab-df-quickchart {\n",
              "    background-color: var(--bg-color);\n",
              "    border: none;\n",
              "    border-radius: 50%;\n",
              "    cursor: pointer;\n",
              "    display: none;\n",
              "    fill: var(--fill-color);\n",
              "    height: 32px;\n",
              "    padding: 0;\n",
              "    width: 32px;\n",
              "  }\n",
              "\n",
              "  .colab-df-quickchart:hover {\n",
              "    background-color: var(--hover-bg-color);\n",
              "    box-shadow: 0 1px 2px rgba(60, 64, 67, 0.3), 0 1px 3px 1px rgba(60, 64, 67, 0.15);\n",
              "    fill: var(--button-hover-fill-color);\n",
              "  }\n",
              "\n",
              "  .colab-df-quickchart-complete:disabled,\n",
              "  .colab-df-quickchart-complete:disabled:hover {\n",
              "    background-color: var(--disabled-bg-color);\n",
              "    fill: var(--disabled-fill-color);\n",
              "    box-shadow: none;\n",
              "  }\n",
              "\n",
              "  .colab-df-spinner {\n",
              "    border: 2px solid var(--fill-color);\n",
              "    border-color: transparent;\n",
              "    border-bottom-color: var(--fill-color);\n",
              "    animation:\n",
              "      spin 1s steps(1) infinite;\n",
              "  }\n",
              "\n",
              "  @keyframes spin {\n",
              "    0% {\n",
              "      border-color: transparent;\n",
              "      border-bottom-color: var(--fill-color);\n",
              "      border-left-color: var(--fill-color);\n",
              "    }\n",
              "    20% {\n",
              "      border-color: transparent;\n",
              "      border-left-color: var(--fill-color);\n",
              "      border-top-color: var(--fill-color);\n",
              "    }\n",
              "    30% {\n",
              "      border-color: transparent;\n",
              "      border-left-color: var(--fill-color);\n",
              "      border-top-color: var(--fill-color);\n",
              "      border-right-color: var(--fill-color);\n",
              "    }\n",
              "    40% {\n",
              "      border-color: transparent;\n",
              "      border-right-color: var(--fill-color);\n",
              "      border-top-color: var(--fill-color);\n",
              "    }\n",
              "    60% {\n",
              "      border-color: transparent;\n",
              "      border-right-color: var(--fill-color);\n",
              "    }\n",
              "    80% {\n",
              "      border-color: transparent;\n",
              "      border-right-color: var(--fill-color);\n",
              "      border-bottom-color: var(--fill-color);\n",
              "    }\n",
              "    90% {\n",
              "      border-color: transparent;\n",
              "      border-bottom-color: var(--fill-color);\n",
              "    }\n",
              "  }\n",
              "</style>\n",
              "\n",
              "  <script>\n",
              "    async function quickchart(key) {\n",
              "      const quickchartButtonEl =\n",
              "        document.querySelector('#' + key + ' button');\n",
              "      quickchartButtonEl.disabled = true;  // To prevent multiple clicks.\n",
              "      quickchartButtonEl.classList.add('colab-df-spinner');\n",
              "      try {\n",
              "        const charts = await google.colab.kernel.invokeFunction(\n",
              "            'suggestCharts', [key], {});\n",
              "      } catch (error) {\n",
              "        console.error('Error during call to suggestCharts:', error);\n",
              "      }\n",
              "      quickchartButtonEl.classList.remove('colab-df-spinner');\n",
              "      quickchartButtonEl.classList.add('colab-df-quickchart-complete');\n",
              "    }\n",
              "    (() => {\n",
              "      let quickchartButtonEl =\n",
              "        document.querySelector('#df-bc767d73-a91e-4883-ab9c-e53bd30be850 button');\n",
              "      quickchartButtonEl.style.display =\n",
              "        google.colab.kernel.accessAllowed ? 'block' : 'none';\n",
              "    })();\n",
              "  </script>\n",
              "</div>\n",
              "    </div>\n",
              "  </div>\n"
            ]
          },
          "metadata": {},
          "execution_count": 7
        }
      ]
    },
    {
      "cell_type": "code",
      "source": [
        "# Se analizan las columnas sobre las que se podrían realizar agrupaciones para comprobar inconsistencias.\n",
        "# Se comienza por la columna 'COMUNA'.\n",
        "df_organizaciones['COMUNA'].unique()"
      ],
      "metadata": {
        "colab": {
          "base_uri": "https://localhost:8080/"
        },
        "id": "mtmwBP6UjN5f",
        "outputId": "7455d6e0-68f1-4941-c836-e5c63154ed96"
      },
      "execution_count": null,
      "outputs": [
        {
          "output_type": "execute_result",
          "data": {
            "text/plain": [
              "array(['CALERA                                                 ',\n",
              "       'SAN ANTONIO                                            ',\n",
              "       'ZAPALLAR                                               ',\n",
              "       'PUCHUNCAVÍ                                             ',\n",
              "       'QUILLOTA                                               ',\n",
              "       'QUINTERO                                               ',\n",
              "       'SANTA MARÍA                                            ',\n",
              "       'LOS ANDES                                              ',\n",
              "       'CASABLANCA                                             ',\n",
              "       'CONCÓN                                                 ',\n",
              "       'PETORCA                                                ',\n",
              "       'CALLE LARGA                                            ',\n",
              "       'CARTAGENA                                              ',\n",
              "       'PANQUEHUE                                              ',\n",
              "       'LLAY LLAY                                              ',\n",
              "       'OLMUÉ                                                  ',\n",
              "       'VALPARAÍSO                                             ',\n",
              "       'ALGARROBO                                              ',\n",
              "       'VIÑA DEL MAR                                           ',\n",
              "       'NOGALES                                                ',\n",
              "       'QUILPUÉ                                                ',\n",
              "       'PUTAENDO                                               ',\n",
              "       'LA LIGUA                                               ',\n",
              "       'CABILDO                                                ',\n",
              "       'SAN FELIPE                                             ',\n",
              "       'VILLA ALEMANA                                          ',\n",
              "       'SANTO DOMINGO                                          ',\n",
              "       'EL TABO                                                ',\n",
              "       'EL QUISCO                                              ',\n",
              "       'RINCONADA                                              ',\n",
              "       'LIMACHE                                                ',\n",
              "       'ISLA DE PASCUA                                         ',\n",
              "       'PAPUDO                                                 ',\n",
              "       'SAN ESTEBAN                                            ',\n",
              "       'LA CRUZ                                                ',\n",
              "       'HIJUELAS                                               ', nan,\n",
              "       'LLAILLAY                                               ',\n",
              "       'CATEMU                                                 ',\n",
              "       'JUAN FERNÁNDEZ                                         ',\n",
              "       'SANTIAGO                                               ',\n",
              "       'PUERTO MONTT                                           ',\n",
              "       'HUARA                                                  '],\n",
              "      dtype=object)"
            ]
          },
          "metadata": {},
          "execution_count": 8
        }
      ]
    },
    {
      "cell_type": "code",
      "source": [
        "# En primer lugar, cada comuna está ingresada con una cantidad no deseada de espacios.\n",
        "# Se eliminan esos espacios.\n",
        "df_organizaciones['COMUNA'] = df_organizaciones['COMUNA'].str.strip()\n",
        "df_organizaciones['COMUNA'].unique()"
      ],
      "metadata": {
        "colab": {
          "base_uri": "https://localhost:8080/"
        },
        "id": "KhEEjcd5mXoo",
        "outputId": "30674686-552a-4dd2-c4b2-9a59c97d6a44"
      },
      "execution_count": null,
      "outputs": [
        {
          "output_type": "execute_result",
          "data": {
            "text/plain": [
              "array(['CALERA', 'SAN ANTONIO', 'ZAPALLAR', 'PUCHUNCAVÍ', 'QUILLOTA',\n",
              "       'QUINTERO', 'SANTA MARÍA', 'LOS ANDES', 'CASABLANCA', 'CONCÓN',\n",
              "       'PETORCA', 'CALLE LARGA', 'CARTAGENA', 'PANQUEHUE', 'LLAY LLAY',\n",
              "       'OLMUÉ', 'VALPARAÍSO', 'ALGARROBO', 'VIÑA DEL MAR', 'NOGALES',\n",
              "       'QUILPUÉ', 'PUTAENDO', 'LA LIGUA', 'CABILDO', 'SAN FELIPE',\n",
              "       'VILLA ALEMANA', 'SANTO DOMINGO', 'EL TABO', 'EL QUISCO',\n",
              "       'RINCONADA', 'LIMACHE', 'ISLA DE PASCUA', 'PAPUDO', 'SAN ESTEBAN',\n",
              "       'LA CRUZ', 'HIJUELAS', nan, 'LLAILLAY', 'CATEMU', 'JUAN FERNÁNDEZ',\n",
              "       'SANTIAGO', 'PUERTO MONTT', 'HUARA'], dtype=object)"
            ]
          },
          "metadata": {},
          "execution_count": 9
        }
      ]
    },
    {
      "cell_type": "code",
      "source": [
        "# Se observa, además, registros de comunas ajenas a la región de Valparaíso.\n",
        "comuna_ajenas = ['SANTIAGO', 'PUERTO MONTT', 'HUARA']\n",
        "\n",
        "# Se eliminan dichos registros.\n",
        "df_organizaciones.drop(df_organizaciones[df_organizaciones['COMUNA'].isin(comuna_ajenas)].index, inplace=True)\n",
        "\n",
        "df_organizaciones['COMUNA'].unique()"
      ],
      "metadata": {
        "colab": {
          "base_uri": "https://localhost:8080/"
        },
        "id": "_q_dGcbJXFfE",
        "outputId": "23c34c76-5f04-4052-cd79-a83a72603df3"
      },
      "execution_count": null,
      "outputs": [
        {
          "output_type": "execute_result",
          "data": {
            "text/plain": [
              "array(['CALERA', 'SAN ANTONIO', 'ZAPALLAR', 'PUCHUNCAVÍ', 'QUILLOTA',\n",
              "       'QUINTERO', 'SANTA MARÍA', 'LOS ANDES', 'CASABLANCA', 'CONCÓN',\n",
              "       'PETORCA', 'CALLE LARGA', 'CARTAGENA', 'PANQUEHUE', 'LLAY LLAY',\n",
              "       'OLMUÉ', 'VALPARAÍSO', 'ALGARROBO', 'VIÑA DEL MAR', 'NOGALES',\n",
              "       'QUILPUÉ', 'PUTAENDO', 'LA LIGUA', 'CABILDO', 'SAN FELIPE',\n",
              "       'VILLA ALEMANA', 'SANTO DOMINGO', 'EL TABO', 'EL QUISCO',\n",
              "       'RINCONADA', 'LIMACHE', 'ISLA DE PASCUA', 'PAPUDO', 'SAN ESTEBAN',\n",
              "       'LA CRUZ', 'HIJUELAS', nan, 'LLAILLAY', 'CATEMU', 'JUAN FERNÁNDEZ'],\n",
              "      dtype=object)"
            ]
          },
          "metadata": {},
          "execution_count": 10
        }
      ]
    },
    {
      "cell_type": "code",
      "source": [
        "# Se revisan los datos nulos para la columna \"COMUNA\".\n",
        "registros_sin_comuna = df_organizaciones[df_organizaciones['COMUNA'].isnull()]\n",
        "print(f'{len(registros_sin_comuna)} registros sin comuna.')"
      ],
      "metadata": {
        "colab": {
          "base_uri": "https://localhost:8080/"
        },
        "id": "aLTH0O3MpL_b",
        "outputId": "0b0ae2c7-3736-4f36-82e1-4214a65ffa73"
      },
      "execution_count": null,
      "outputs": [
        {
          "output_type": "stream",
          "name": "stdout",
          "text": [
            "139 registros sin comuna.\n"
          ]
        }
      ]
    },
    {
      "cell_type": "code",
      "source": [
        "# Se eliminan dichos registros.\n",
        "df_organizaciones.dropna(subset=['COMUNA'], inplace=True)"
      ],
      "metadata": {
        "id": "D-cZE3OFlGvx"
      },
      "execution_count": null,
      "outputs": []
    },
    {
      "cell_type": "code",
      "source": [
        "# Comprobación de la eliminación.\n",
        "registros_sin_comuna = df_organizaciones[df_organizaciones['COMUNA'].isnull()]\n",
        "print(f'{len(registros_sin_comuna)} registros sin comuna.')"
      ],
      "metadata": {
        "colab": {
          "base_uri": "https://localhost:8080/"
        },
        "id": "G6sxLfLylPA1",
        "outputId": "6b52a1ef-8b04-4d6c-b18a-71edd3e64e4b"
      },
      "execution_count": null,
      "outputs": [
        {
          "output_type": "stream",
          "name": "stdout",
          "text": [
            "0 registros sin comuna.\n"
          ]
        }
      ]
    },
    {
      "cell_type": "code",
      "source": [
        "# Siguiendo con las columnas que permiten agrupar, se examina la columna TIPO.\n",
        "df_organizaciones['TIPO'].unique()"
      ],
      "metadata": {
        "colab": {
          "base_uri": "https://localhost:8080/"
        },
        "id": "vVSYc1gS1Yc7",
        "outputId": "06fd148b-adb0-49da-a28e-4f1c9184c4cf"
      },
      "execution_count": null,
      "outputs": [
        {
          "output_type": "execute_result",
          "data": {
            "text/plain": [
              "array(['ORGANIZACIÓN TERRITORIAL', 'COMUNITARIA/VECINAL',\n",
              "       'ORGANIZACIÓN FUNCIONAL', 'CORPORACION', 'CORPORACION/FUNDACION',\n",
              "       'FUNDACION', 'OTRA', 'LEY ESPECIAL INDIGENA',\n",
              "       'LEY ESPECIAL DE DEPORTE', 'LEYES ESPECIALES',\n",
              "       'LEY ESPECIAL DE CULTO'], dtype=object)"
            ]
          },
          "metadata": {},
          "execution_count": 14
        }
      ]
    },
    {
      "cell_type": "code",
      "source": [
        "# De acuerdo a la normativa vigente hay \"TIPOS\" que hacen referencia al mismo concepto,\n",
        "# por lo que se pueden fusionar.\n",
        "mapeo_tipos = {\n",
        "    'ORGANIZACIÓN TERRITORIAL': 'COMUNITARIA',\n",
        "    'COMUNITARIA/VECINAL': 'COMUNITARIA',\n",
        "    'ORGANIZACIÓN FUNCIONAL': 'COMUNITARIA',\n",
        "    'CORPORACION': 'CODIGO CIVIL',\n",
        "    'CORPORACION/FUNDACION': 'CODIGO CIVIL',\n",
        "    'FUNDACION': 'CODIGO CIVIL',\n",
        "    'OTRA': 'OTRAS LEYES',\n",
        "    'LEY ESPECIAL INDIGENA': 'OTRAS LEYES',\n",
        "    'LEY ESPECIAL DE DEPORTE': 'OTRAS LEYES',\n",
        "    'LEYES ESPECIALES': 'OTRAS LEYES',\n",
        "    'LEY ESPECIAL DE CULTO': 'OTRAS LEYES',\n",
        "}\n",
        "\n",
        "df_organizaciones['TIPO'] = df_organizaciones['TIPO'].replace(mapeo_tipos)\n",
        "df_organizaciones['TIPO'].value_counts()"
      ],
      "metadata": {
        "colab": {
          "base_uri": "https://localhost:8080/"
        },
        "id": "yuGN6rgc1l6L",
        "outputId": "04dbdfe2-a291-4461-cdbe-5fd622ed4704"
      },
      "execution_count": null,
      "outputs": [
        {
          "output_type": "execute_result",
          "data": {
            "text/plain": [
              "COMUNITARIA     32817\n",
              "CODIGO CIVIL     4379\n",
              "OTRAS LEYES       290\n",
              "Name: TIPO, dtype: int64"
            ]
          },
          "metadata": {},
          "execution_count": 15
        }
      ]
    },
    {
      "cell_type": "code",
      "source": [
        "# Por último, se examina la columna \"CLASIFICACION\".\n",
        "df_organizaciones['CLASIFICACION'].unique()"
      ],
      "metadata": {
        "colab": {
          "base_uri": "https://localhost:8080/"
        },
        "id": "Zop2H4W1PJ0G",
        "outputId": "865f4df0-40b6-4b13-93c5-d86c08c57cde"
      },
      "execution_count": null,
      "outputs": [
        {
          "output_type": "execute_result",
          "data": {
            "text/plain": [
              "array(['JUNTA DE VECINOS O CONDOMINIOS', nan, 'AGRUPACION SOCIAL',\n",
              "       'COMITE', 'AGRUPACION DE CULTURA', 'UNION COMUNAL',\n",
              "       'CENTRO ADULTO MAYOR', 'CENTRO DE PADRES', 'CENTRO DE MADRES',\n",
              "       'AGRUPACION FOLCLORICA', 'CLUB DEPORTIVO', 'DEPORTIVAS',\n",
              "       'AGRUPACION DE SALUD', 'OTRAS', 'N/D', 'ONG', 'CULTURALES',\n",
              "       'AGRUPACION ANIMALISTA', 'ASISTENCIA SOCIAL', 'AGRUPACION JUVENIL',\n",
              "       'AGRUPACION DE MUJERES', 'CLUBES DE LEONES', 'EDUCACION',\n",
              "       'CENTROS DE PADRES', 'RELIGIOSAS', 'AGRUPACION MEDIO AMBIENTAL',\n",
              "       'AGRUPACION DE DISCAPACIDAD', 'AGRUPACION ETNICA', 'ANCIANOS',\n",
              "       'SOC MUTUALISTA', 'AGRUPACION DE VIVIENDA', 'CUERPO DE BOMBEROS',\n",
              "       'SALUD', 'AGRUPACION ECOLOGICA', 'CLUB DE DAMAS', 'ROTARY CLUB',\n",
              "       'NIÑOS', 'AGRUPACION DE SEGURIDAD', 'SERVICIO BIENESTAR',\n",
              "       'CORPORACION MUTUAL', 'POLITICOS'], dtype=object)"
            ]
          },
          "metadata": {},
          "execution_count": 16
        }
      ]
    },
    {
      "cell_type": "code",
      "source": [
        "# Se observa que hay demasiados registros sin datos en esta columna.\n",
        "# Sin embargo, se opta por no eliminarlos, dada la cantidad y la posibilidad de\n",
        "# poder completar datos.\n",
        "df_organizaciones['CLASIFICACION'].isnull().sum()"
      ],
      "metadata": {
        "colab": {
          "base_uri": "https://localhost:8080/"
        },
        "id": "gFVDa0Ge2PMz",
        "outputId": "08115474-a272-4754-c921-d770ab70250e"
      },
      "execution_count": null,
      "outputs": [
        {
          "output_type": "execute_result",
          "data": {
            "text/plain": [
              "15045"
            ]
          },
          "metadata": {},
          "execution_count": 17
        }
      ]
    },
    {
      "cell_type": "code",
      "source": [
        "# Se filtran las organizaciones de tipo \"CODIGO CIVIL\".\n",
        "# Además, de acuerdo a la ley, estas organizaciones solo pueden ser fundaciones o corporaciones.\n",
        "# Primero, se seleccionan las fundaciones con valores nulos.\n",
        "fundaciones_clasificacion_null = df_organizaciones[\n",
        "    (df_organizaciones['CLASIFICACION'].isnull()) &\n",
        "    (df_organizaciones['TIPO'] == 'CODIGO CIVIL') &\n",
        "    (df_organizaciones['NOMBRE PJ'].str.contains('FUNDACION'))\n",
        "]"
      ],
      "metadata": {
        "id": "h3ROjy115iPU"
      },
      "execution_count": null,
      "outputs": []
    },
    {
      "cell_type": "code",
      "source": [
        "print(f'Existen {len(fundaciones_clasificacion_null)} fundaciones sin clasificación.')"
      ],
      "metadata": {
        "colab": {
          "base_uri": "https://localhost:8080/"
        },
        "id": "sDVobR0b7XLQ",
        "outputId": "a6bb9b86-2503-414d-8cba-19836a5e4f7e"
      },
      "execution_count": null,
      "outputs": [
        {
          "output_type": "stream",
          "name": "stdout",
          "text": [
            "Existen 51 fundaciones sin clasificación.\n"
          ]
        }
      ]
    },
    {
      "cell_type": "code",
      "source": [
        "# Se asigna la CLASIFICACION de FUNDACION a las organizaciones seleccionadas.\n",
        "df_organizaciones.loc[\n",
        "    ((df_organizaciones['CLASIFICACION'].isnull()) &\n",
        "    (df_organizaciones['TIPO'] == 'CODIGO CIVIL') &\n",
        "    (df_organizaciones['NOMBRE PJ'].str.contains('FUNDACION'))),\n",
        "    'CLASIFICACION'] = 'FUNDACION'"
      ],
      "metadata": {
        "id": "QJwDOzh57ibr"
      },
      "execution_count": null,
      "outputs": []
    },
    {
      "cell_type": "code",
      "source": [
        "print(f'Existen {len(fundaciones_clasificacion_null)} fundaciones sin clasificación.')"
      ],
      "metadata": {
        "colab": {
          "base_uri": "https://localhost:8080/"
        },
        "id": "aUXomDws7zCP",
        "outputId": "7e263653-12cb-4f70-ee41-cbf8ba78680d"
      },
      "execution_count": null,
      "outputs": [
        {
          "output_type": "stream",
          "name": "stdout",
          "text": [
            "Existen 0 fundaciones sin clasificación.\n"
          ]
        }
      ]
    },
    {
      "cell_type": "code",
      "source": [
        "# Por lo tanto, el resto son solo corporaciones sin ingresar.\n",
        "corporaciones_sin_clasificacion = df_organizaciones[\n",
        "    (df_organizaciones['CLASIFICACION'].isnull()) &\n",
        "    (df_organizaciones['TIPO'] == 'CODIGO CIVIL')\n",
        "]"
      ],
      "metadata": {
        "id": "d9dkHX4h76H0"
      },
      "execution_count": null,
      "outputs": []
    },
    {
      "cell_type": "code",
      "source": [
        "print(f'Existen {len(corporaciones_sin_clasificacion)} corporaciones sin clasificación.')"
      ],
      "metadata": {
        "colab": {
          "base_uri": "https://localhost:8080/"
        },
        "id": "StBbMhl18IUZ",
        "outputId": "7b303ea4-8b9d-4f4d-88f4-384e777a9568"
      },
      "execution_count": null,
      "outputs": [
        {
          "output_type": "stream",
          "name": "stdout",
          "text": [
            "Existen 1015 corporaciones sin clasificación.\n"
          ]
        }
      ]
    },
    {
      "cell_type": "code",
      "source": [
        "# Se asigna la CLASIFICACION de FUNDACION a las organizaciones seleccionadas.\n",
        "df_organizaciones.loc[\n",
        "    ((df_organizaciones['CLASIFICACION'].isnull()) &\n",
        "    (df_organizaciones['TIPO'] == 'CODIGO CIVIL')),\n",
        "    'CLASIFICACION'] = 'CORPORACION'"
      ],
      "metadata": {
        "id": "3cuF4KMn8N_F"
      },
      "execution_count": null,
      "outputs": []
    },
    {
      "cell_type": "code",
      "source": [
        "print(f'Existen {len(corporaciones_sin_clasificacion)} corporaciones sin clasificación.')"
      ],
      "metadata": {
        "colab": {
          "base_uri": "https://localhost:8080/"
        },
        "id": "wqfdyXp78NBF",
        "outputId": "78c37158-30df-4d3b-8578-6f9f523e1eaf"
      },
      "execution_count": null,
      "outputs": [
        {
          "output_type": "stream",
          "name": "stdout",
          "text": [
            "Existen 0 corporaciones sin clasificación.\n"
          ]
        }
      ]
    },
    {
      "cell_type": "code",
      "source": [
        "# De los 15044 registros sin clasificación, se reduce a 13979.\n",
        "sin_clasificacion = df_organizaciones[df_organizaciones['CLASIFICACION'].isnull()]\n",
        "print(f'Existen {len(sin_clasificacion)} organizaciones sin clasificación.')"
      ],
      "metadata": {
        "colab": {
          "base_uri": "https://localhost:8080/"
        },
        "id": "AgcMo-wx82EA",
        "outputId": "2fb17790-2be8-4366-e155-81aabb4182fa"
      },
      "execution_count": null,
      "outputs": [
        {
          "output_type": "stream",
          "name": "stdout",
          "text": [
            "Existen 13979 organizaciones sin clasificación.\n"
          ]
        }
      ]
    },
    {
      "cell_type": "code",
      "source": [
        "df_organizaciones['CLASIFICACION'].value_counts()"
      ],
      "metadata": {
        "colab": {
          "base_uri": "https://localhost:8080/"
        },
        "id": "iifpV6B6kbK8",
        "outputId": "60097ca1-ec16-4489-856f-49a179adb647"
      },
      "execution_count": null,
      "outputs": [
        {
          "output_type": "execute_result",
          "data": {
            "text/plain": [
              "COMITE                            4668\n",
              "JUNTA DE VECINOS O CONDOMINIOS    3210\n",
              "AGRUPACION SOCIAL                 3090\n",
              "N/D                               2353\n",
              "CLUB DEPORTIVO                    1856\n",
              "CENTRO ADULTO MAYOR               1615\n",
              "CORPORACION                       1015\n",
              "OTRAS                              775\n",
              "AGRUPACION DE CULTURA              727\n",
              "CENTRO DE PADRES                   634\n",
              "CENTRO DE MADRES                   590\n",
              "DEPORTIVAS                         440\n",
              "ONG                                345\n",
              "AGRUPACION DE MUJERES              338\n",
              "CULTURALES                         338\n",
              "AGRUPACION FOLCLORICA              295\n",
              "EDUCACION                          169\n",
              "UNION COMUNAL                       97\n",
              "AGRUPACION JUVENIL                  76\n",
              "CENTROS DE PADRES                   75\n",
              "AGRUPACION DE VIVIENDA              74\n",
              "AGRUPACION MEDIO AMBIENTAL          69\n",
              "AGRUPACION ANIMALISTA               69\n",
              "AGRUPACION DE SALUD                 65\n",
              "SALUD                               62\n",
              "ASISTENCIA SOCIAL                   60\n",
              "RELIGIOSAS                          58\n",
              "FUNDACION                           51\n",
              "AGRUPACION DE DISCAPACIDAD          50\n",
              "AGRUPACION ECOLOGICA                50\n",
              "CUERPO DE BOMBEROS                  37\n",
              "AGRUPACION ETNICA                   33\n",
              "CLUB DE DAMAS                       29\n",
              "AGRUPACION DE SEGURIDAD             26\n",
              "ROTARY CLUB                         23\n",
              "NIÑOS                               10\n",
              "CLUBES DE LEONES                     9\n",
              "ANCIANOS                             9\n",
              "SOC MUTUALISTA                       6\n",
              "SERVICIO BIENESTAR                   5\n",
              "CORPORACION MUTUAL                   5\n",
              "POLITICOS                            1\n",
              "Name: CLASIFICACION, dtype: int64"
            ]
          },
          "metadata": {},
          "execution_count": 27
        }
      ]
    },
    {
      "cell_type": "code",
      "source": [
        "# Llama especialmente la atención la clasificación \"N/D\".\n",
        "sin_clasificacion = df_organizaciones[df_organizaciones['CLASIFICACION'] == 'N/D']\n",
        "print(f'Existen {len(sin_clasificacion)} organizaciones con clasificación N/D.')"
      ],
      "metadata": {
        "colab": {
          "base_uri": "https://localhost:8080/"
        },
        "id": "6u1UKMnaP177",
        "outputId": "827b6ba7-90d0-4f67-978c-9e839fcc0feb"
      },
      "execution_count": null,
      "outputs": [
        {
          "output_type": "stream",
          "name": "stdout",
          "text": [
            "Existen 2353 organizaciones con clasificación N/D.\n"
          ]
        }
      ]
    },
    {
      "cell_type": "code",
      "source": [
        "# Se filtran las organizaciones de tipo \"CODIGO CIVIL\".\n",
        "# Además, de acuerdo a la ley, estas organizaciones solo pueden ser fundaciones o corporaciones.\n",
        "# Primero, se seleccionan las fundaciones no ingresadas.\n",
        "fundaciones_sin_clasificacion = df_organizaciones[\n",
        "    (df_organizaciones['CLASIFICACION'] == 'N/D') &\n",
        "    (df_organizaciones['TIPO'] == 'CODIGO CIVIL') &\n",
        "    (df_organizaciones['NOMBRE PJ'].str.contains('FUNDACION'))\n",
        "]"
      ],
      "metadata": {
        "id": "9gTzLwz7Ree7"
      },
      "execution_count": null,
      "outputs": []
    },
    {
      "cell_type": "code",
      "source": [
        "print(f'Existen {len(fundaciones_sin_clasificacion)} fundaciones con clasificación N/D.')"
      ],
      "metadata": {
        "colab": {
          "base_uri": "https://localhost:8080/"
        },
        "id": "LkT9VH7xpwmK",
        "outputId": "85b3afbe-dd4f-44f7-baa3-15de2a3de2ea"
      },
      "execution_count": null,
      "outputs": [
        {
          "output_type": "stream",
          "name": "stdout",
          "text": [
            "Existen 634 fundaciones con clasificación N/D.\n"
          ]
        }
      ]
    },
    {
      "cell_type": "code",
      "source": [
        "# Se asigna la CLASIFICACION de FUNDACION a las organizaciones seleccionadas.\n",
        "df_organizaciones.loc[\n",
        "    ((df_organizaciones['CLASIFICACION'] == 'N/D') &\n",
        "    (df_organizaciones['TIPO'] == 'CODIGO CIVIL') &\n",
        "    (df_organizaciones['NOMBRE PJ'].str.contains('FUNDACION'))),\n",
        "    'CLASIFICACION'] = 'FUNDACION'"
      ],
      "metadata": {
        "id": "UDnMfZVCZXqY"
      },
      "execution_count": null,
      "outputs": []
    },
    {
      "cell_type": "code",
      "source": [
        "print(f'Existen {len(fundaciones_sin_clasificacion)} fundaciones con clasificación N/D.')"
      ],
      "metadata": {
        "colab": {
          "base_uri": "https://localhost:8080/"
        },
        "id": "_ZTV-C_znnP6",
        "outputId": "5d1b3769-5e4e-474e-b237-dc1be09ea95f"
      },
      "execution_count": null,
      "outputs": [
        {
          "output_type": "stream",
          "name": "stdout",
          "text": [
            "Existen 0 fundaciones con clasificación N/D.\n"
          ]
        }
      ]
    },
    {
      "cell_type": "code",
      "source": [
        "# Por lo tanto, el resto son solo corporaciones sin ingresar.\n",
        "corporaciones_sin_clasificacion = df_organizaciones[\n",
        "    (df_organizaciones['CLASIFICACION'] == 'N/D') &\n",
        "    (df_organizaciones['TIPO'] == 'CODIGO CIVIL')\n",
        "]"
      ],
      "metadata": {
        "id": "G0Ze8j4_bX45"
      },
      "execution_count": null,
      "outputs": []
    },
    {
      "cell_type": "code",
      "source": [
        "print(f'Existen {len(corporaciones_sin_clasificacion)} corporaciones con clasificación N/D.')"
      ],
      "metadata": {
        "colab": {
          "base_uri": "https://localhost:8080/"
        },
        "id": "OIHjVX6Hp4w3",
        "outputId": "460b720c-c714-4e6b-e530-e2a79c674e79"
      },
      "execution_count": null,
      "outputs": [
        {
          "output_type": "stream",
          "name": "stdout",
          "text": [
            "Existen 822 corporaciones con clasificación N/D.\n"
          ]
        }
      ]
    },
    {
      "cell_type": "code",
      "source": [
        "# En forma análoga, se asigna la CLASIFICACION de CORPORACION a estas organizaciones.\n",
        "df_organizaciones.loc[\n",
        "    ((df_organizaciones['CLASIFICACION'] == 'N/D') &\n",
        "    (df_organizaciones['TIPO'] == 'CODIGO CIVIL')),\n",
        "    'CLASIFICACION'] = 'CORPORACION'"
      ],
      "metadata": {
        "id": "sD-WIWg2cnpn"
      },
      "execution_count": null,
      "outputs": []
    },
    {
      "cell_type": "code",
      "source": [
        "print(f'Existen {len(corporaciones_sin_clasificacion)} corporaciones con clasificación N/D.')"
      ],
      "metadata": {
        "colab": {
          "base_uri": "https://localhost:8080/"
        },
        "id": "PMwP2OJhoWS2",
        "outputId": "93c0210d-9fc2-4465-8285-860cb4ae0d51"
      },
      "execution_count": null,
      "outputs": [
        {
          "output_type": "stream",
          "name": "stdout",
          "text": [
            "Existen 0 corporaciones con clasificación N/D.\n"
          ]
        }
      ]
    },
    {
      "cell_type": "code",
      "source": [
        "# De los 2353 registros con clasificación N/D, se reduce a 897.\n",
        "sin_clasificacion = df_organizaciones[df_organizaciones['CLASIFICACION'] == 'N/D']\n",
        "print(f'Existen {len(sin_clasificacion)} organizaciones con clasificación N/D.')"
      ],
      "metadata": {
        "colab": {
          "base_uri": "https://localhost:8080/"
        },
        "id": "eTN01n8wdV3-",
        "outputId": "6e906767-aa1b-4dd0-fe9d-f32d33c60ada"
      },
      "execution_count": null,
      "outputs": [
        {
          "output_type": "stream",
          "name": "stdout",
          "text": [
            "Existen 897 organizaciones con clasificación N/D.\n"
          ]
        }
      ]
    },
    {
      "cell_type": "code",
      "source": [
        "# De las organizaciones del TIPO == COMUNITARIA, no es posible establecer una clasificación\n",
        "# ya que las posibilidades son demasiadas y los nombres, en general, no son descriptivos.\n",
        "# Se opta por eliminar dichos registros.\n",
        "df_organizaciones.drop(df_organizaciones[df_organizaciones['CLASIFICACION'] == 'N/D'].index, inplace=True)"
      ],
      "metadata": {
        "id": "wpnm1lLSegLB"
      },
      "execution_count": null,
      "outputs": []
    },
    {
      "cell_type": "code",
      "source": [
        "print(f'El dataframe contiene {len(df_organizaciones)} registros.')"
      ],
      "metadata": {
        "colab": {
          "base_uri": "https://localhost:8080/"
        },
        "id": "d54Uwh98qms5",
        "outputId": "08a209b9-0bd1-4c36-bfa6-8e3dfa79c04f"
      },
      "execution_count": null,
      "outputs": [
        {
          "output_type": "stream",
          "name": "stdout",
          "text": [
            "El dataframe contiene 36589 registros.\n"
          ]
        }
      ]
    },
    {
      "cell_type": "code",
      "source": [
        "# Con el dataframe un poco más limpio es posible trabajar con las fechas.\n",
        "# Se convierte la columna de fecha a tipo datetime.\n",
        "df_organizaciones['FECHA DE CONCESION'] = pd.to_datetime(df_organizaciones['FECHA DE CONCESION'], dayfirst=True)\n",
        "\n",
        "# Se calculan los decenios.\n",
        "df_organizaciones['DECENIOS'] = (df_organizaciones['FECHA DE CONCESION'].dt.year // 10) * 10\n",
        "\n",
        "# Se agrupan por decenio y se cuentan los tipos de organizaciones.\n",
        "agrupado = df_organizaciones.groupby(['DECENIOS', 'TIPO']).size().reset_index(name='CANTIDAD')\n",
        "\n",
        "# Se encuentra el tipo de organización con más constituciones en cada decenio.\n",
        "tipo_mas_constituciones = agrupado.loc[agrupado.groupby('DECENIOS')['CANTIDAD'].idxmax()]\n",
        "\n",
        "tipo_mas_constituciones"
      ],
      "metadata": {
        "colab": {
          "base_uri": "https://localhost:8080/",
          "height": 676
        },
        "id": "h6zaHFfH1Frg",
        "outputId": "1dce4446-4cfa-46aa-cca1-08008d9f92f1"
      },
      "execution_count": null,
      "outputs": [
        {
          "output_type": "execute_result",
          "data": {
            "text/plain": [
              "    DECENIOS          TIPO  CANTIDAD\n",
              "0       1860  CODIGO CIVIL         5\n",
              "1       1870  CODIGO CIVIL        11\n",
              "2       1880  CODIGO CIVIL        14\n",
              "3       1890  CODIGO CIVIL        64\n",
              "4       1900  CODIGO CIVIL        53\n",
              "6       1910  CODIGO CIVIL       121\n",
              "7       1920  CODIGO CIVIL       160\n",
              "8       1930  CODIGO CIVIL       136\n",
              "10      1940  CODIGO CIVIL       164\n",
              "12      1950  CODIGO CIVIL       230\n",
              "14      1960  CODIGO CIVIL       195\n",
              "17      1970   COMUNITARIA       187\n",
              "18      1980  CODIGO CIVIL       110\n",
              "21      1990   COMUNITARIA      7260\n",
              "24      2000   COMUNITARIA     10265\n",
              "27      2010   COMUNITARIA     12233\n",
              "30      2020   COMUNITARIA      1860\n",
              "32      2090   COMUNITARIA         1\n",
              "33      2100   COMUNITARIA         1\n",
              "34      2110   COMUNITARIA         1"
            ],
            "text/html": [
              "\n",
              "  <div id=\"df-b25536e7-c23a-4d57-89fe-dc9fe4e6ecd4\" class=\"colab-df-container\">\n",
              "    <div>\n",
              "<style scoped>\n",
              "    .dataframe tbody tr th:only-of-type {\n",
              "        vertical-align: middle;\n",
              "    }\n",
              "\n",
              "    .dataframe tbody tr th {\n",
              "        vertical-align: top;\n",
              "    }\n",
              "\n",
              "    .dataframe thead th {\n",
              "        text-align: right;\n",
              "    }\n",
              "</style>\n",
              "<table border=\"1\" class=\"dataframe\">\n",
              "  <thead>\n",
              "    <tr style=\"text-align: right;\">\n",
              "      <th></th>\n",
              "      <th>DECENIOS</th>\n",
              "      <th>TIPO</th>\n",
              "      <th>CANTIDAD</th>\n",
              "    </tr>\n",
              "  </thead>\n",
              "  <tbody>\n",
              "    <tr>\n",
              "      <th>0</th>\n",
              "      <td>1860</td>\n",
              "      <td>CODIGO CIVIL</td>\n",
              "      <td>5</td>\n",
              "    </tr>\n",
              "    <tr>\n",
              "      <th>1</th>\n",
              "      <td>1870</td>\n",
              "      <td>CODIGO CIVIL</td>\n",
              "      <td>11</td>\n",
              "    </tr>\n",
              "    <tr>\n",
              "      <th>2</th>\n",
              "      <td>1880</td>\n",
              "      <td>CODIGO CIVIL</td>\n",
              "      <td>14</td>\n",
              "    </tr>\n",
              "    <tr>\n",
              "      <th>3</th>\n",
              "      <td>1890</td>\n",
              "      <td>CODIGO CIVIL</td>\n",
              "      <td>64</td>\n",
              "    </tr>\n",
              "    <tr>\n",
              "      <th>4</th>\n",
              "      <td>1900</td>\n",
              "      <td>CODIGO CIVIL</td>\n",
              "      <td>53</td>\n",
              "    </tr>\n",
              "    <tr>\n",
              "      <th>6</th>\n",
              "      <td>1910</td>\n",
              "      <td>CODIGO CIVIL</td>\n",
              "      <td>121</td>\n",
              "    </tr>\n",
              "    <tr>\n",
              "      <th>7</th>\n",
              "      <td>1920</td>\n",
              "      <td>CODIGO CIVIL</td>\n",
              "      <td>160</td>\n",
              "    </tr>\n",
              "    <tr>\n",
              "      <th>8</th>\n",
              "      <td>1930</td>\n",
              "      <td>CODIGO CIVIL</td>\n",
              "      <td>136</td>\n",
              "    </tr>\n",
              "    <tr>\n",
              "      <th>10</th>\n",
              "      <td>1940</td>\n",
              "      <td>CODIGO CIVIL</td>\n",
              "      <td>164</td>\n",
              "    </tr>\n",
              "    <tr>\n",
              "      <th>12</th>\n",
              "      <td>1950</td>\n",
              "      <td>CODIGO CIVIL</td>\n",
              "      <td>230</td>\n",
              "    </tr>\n",
              "    <tr>\n",
              "      <th>14</th>\n",
              "      <td>1960</td>\n",
              "      <td>CODIGO CIVIL</td>\n",
              "      <td>195</td>\n",
              "    </tr>\n",
              "    <tr>\n",
              "      <th>17</th>\n",
              "      <td>1970</td>\n",
              "      <td>COMUNITARIA</td>\n",
              "      <td>187</td>\n",
              "    </tr>\n",
              "    <tr>\n",
              "      <th>18</th>\n",
              "      <td>1980</td>\n",
              "      <td>CODIGO CIVIL</td>\n",
              "      <td>110</td>\n",
              "    </tr>\n",
              "    <tr>\n",
              "      <th>21</th>\n",
              "      <td>1990</td>\n",
              "      <td>COMUNITARIA</td>\n",
              "      <td>7260</td>\n",
              "    </tr>\n",
              "    <tr>\n",
              "      <th>24</th>\n",
              "      <td>2000</td>\n",
              "      <td>COMUNITARIA</td>\n",
              "      <td>10265</td>\n",
              "    </tr>\n",
              "    <tr>\n",
              "      <th>27</th>\n",
              "      <td>2010</td>\n",
              "      <td>COMUNITARIA</td>\n",
              "      <td>12233</td>\n",
              "    </tr>\n",
              "    <tr>\n",
              "      <th>30</th>\n",
              "      <td>2020</td>\n",
              "      <td>COMUNITARIA</td>\n",
              "      <td>1860</td>\n",
              "    </tr>\n",
              "    <tr>\n",
              "      <th>32</th>\n",
              "      <td>2090</td>\n",
              "      <td>COMUNITARIA</td>\n",
              "      <td>1</td>\n",
              "    </tr>\n",
              "    <tr>\n",
              "      <th>33</th>\n",
              "      <td>2100</td>\n",
              "      <td>COMUNITARIA</td>\n",
              "      <td>1</td>\n",
              "    </tr>\n",
              "    <tr>\n",
              "      <th>34</th>\n",
              "      <td>2110</td>\n",
              "      <td>COMUNITARIA</td>\n",
              "      <td>1</td>\n",
              "    </tr>\n",
              "  </tbody>\n",
              "</table>\n",
              "</div>\n",
              "    <div class=\"colab-df-buttons\">\n",
              "\n",
              "  <div class=\"colab-df-container\">\n",
              "    <button class=\"colab-df-convert\" onclick=\"convertToInteractive('df-b25536e7-c23a-4d57-89fe-dc9fe4e6ecd4')\"\n",
              "            title=\"Convert this dataframe to an interactive table.\"\n",
              "            style=\"display:none;\">\n",
              "\n",
              "  <svg xmlns=\"http://www.w3.org/2000/svg\" height=\"24px\" viewBox=\"0 -960 960 960\">\n",
              "    <path d=\"M120-120v-720h720v720H120Zm60-500h600v-160H180v160Zm220 220h160v-160H400v160Zm0 220h160v-160H400v160ZM180-400h160v-160H180v160Zm440 0h160v-160H620v160ZM180-180h160v-160H180v160Zm440 0h160v-160H620v160Z\"/>\n",
              "  </svg>\n",
              "    </button>\n",
              "\n",
              "  <style>\n",
              "    .colab-df-container {\n",
              "      display:flex;\n",
              "      gap: 12px;\n",
              "    }\n",
              "\n",
              "    .colab-df-convert {\n",
              "      background-color: #E8F0FE;\n",
              "      border: none;\n",
              "      border-radius: 50%;\n",
              "      cursor: pointer;\n",
              "      display: none;\n",
              "      fill: #1967D2;\n",
              "      height: 32px;\n",
              "      padding: 0 0 0 0;\n",
              "      width: 32px;\n",
              "    }\n",
              "\n",
              "    .colab-df-convert:hover {\n",
              "      background-color: #E2EBFA;\n",
              "      box-shadow: 0px 1px 2px rgba(60, 64, 67, 0.3), 0px 1px 3px 1px rgba(60, 64, 67, 0.15);\n",
              "      fill: #174EA6;\n",
              "    }\n",
              "\n",
              "    .colab-df-buttons div {\n",
              "      margin-bottom: 4px;\n",
              "    }\n",
              "\n",
              "    [theme=dark] .colab-df-convert {\n",
              "      background-color: #3B4455;\n",
              "      fill: #D2E3FC;\n",
              "    }\n",
              "\n",
              "    [theme=dark] .colab-df-convert:hover {\n",
              "      background-color: #434B5C;\n",
              "      box-shadow: 0px 1px 3px 1px rgba(0, 0, 0, 0.15);\n",
              "      filter: drop-shadow(0px 1px 2px rgba(0, 0, 0, 0.3));\n",
              "      fill: #FFFFFF;\n",
              "    }\n",
              "  </style>\n",
              "\n",
              "    <script>\n",
              "      const buttonEl =\n",
              "        document.querySelector('#df-b25536e7-c23a-4d57-89fe-dc9fe4e6ecd4 button.colab-df-convert');\n",
              "      buttonEl.style.display =\n",
              "        google.colab.kernel.accessAllowed ? 'block' : 'none';\n",
              "\n",
              "      async function convertToInteractive(key) {\n",
              "        const element = document.querySelector('#df-b25536e7-c23a-4d57-89fe-dc9fe4e6ecd4');\n",
              "        const dataTable =\n",
              "          await google.colab.kernel.invokeFunction('convertToInteractive',\n",
              "                                                    [key], {});\n",
              "        if (!dataTable) return;\n",
              "\n",
              "        const docLinkHtml = 'Like what you see? Visit the ' +\n",
              "          '<a target=\"_blank\" href=https://colab.research.google.com/notebooks/data_table.ipynb>data table notebook</a>'\n",
              "          + ' to learn more about interactive tables.';\n",
              "        element.innerHTML = '';\n",
              "        dataTable['output_type'] = 'display_data';\n",
              "        await google.colab.output.renderOutput(dataTable, element);\n",
              "        const docLink = document.createElement('div');\n",
              "        docLink.innerHTML = docLinkHtml;\n",
              "        element.appendChild(docLink);\n",
              "      }\n",
              "    </script>\n",
              "  </div>\n",
              "\n",
              "\n",
              "<div id=\"df-44560c0d-d9ed-4470-bf8c-277b2a1bd963\">\n",
              "  <button class=\"colab-df-quickchart\" onclick=\"quickchart('df-44560c0d-d9ed-4470-bf8c-277b2a1bd963')\"\n",
              "            title=\"Suggest charts.\"\n",
              "            style=\"display:none;\">\n",
              "\n",
              "<svg xmlns=\"http://www.w3.org/2000/svg\" height=\"24px\"viewBox=\"0 0 24 24\"\n",
              "     width=\"24px\">\n",
              "    <g>\n",
              "        <path d=\"M19 3H5c-1.1 0-2 .9-2 2v14c0 1.1.9 2 2 2h14c1.1 0 2-.9 2-2V5c0-1.1-.9-2-2-2zM9 17H7v-7h2v7zm4 0h-2V7h2v10zm4 0h-2v-4h2v4z\"/>\n",
              "    </g>\n",
              "</svg>\n",
              "  </button>\n",
              "\n",
              "<style>\n",
              "  .colab-df-quickchart {\n",
              "      --bg-color: #E8F0FE;\n",
              "      --fill-color: #1967D2;\n",
              "      --hover-bg-color: #E2EBFA;\n",
              "      --hover-fill-color: #174EA6;\n",
              "      --disabled-fill-color: #AAA;\n",
              "      --disabled-bg-color: #DDD;\n",
              "  }\n",
              "\n",
              "  [theme=dark] .colab-df-quickchart {\n",
              "      --bg-color: #3B4455;\n",
              "      --fill-color: #D2E3FC;\n",
              "      --hover-bg-color: #434B5C;\n",
              "      --hover-fill-color: #FFFFFF;\n",
              "      --disabled-bg-color: #3B4455;\n",
              "      --disabled-fill-color: #666;\n",
              "  }\n",
              "\n",
              "  .colab-df-quickchart {\n",
              "    background-color: var(--bg-color);\n",
              "    border: none;\n",
              "    border-radius: 50%;\n",
              "    cursor: pointer;\n",
              "    display: none;\n",
              "    fill: var(--fill-color);\n",
              "    height: 32px;\n",
              "    padding: 0;\n",
              "    width: 32px;\n",
              "  }\n",
              "\n",
              "  .colab-df-quickchart:hover {\n",
              "    background-color: var(--hover-bg-color);\n",
              "    box-shadow: 0 1px 2px rgba(60, 64, 67, 0.3), 0 1px 3px 1px rgba(60, 64, 67, 0.15);\n",
              "    fill: var(--button-hover-fill-color);\n",
              "  }\n",
              "\n",
              "  .colab-df-quickchart-complete:disabled,\n",
              "  .colab-df-quickchart-complete:disabled:hover {\n",
              "    background-color: var(--disabled-bg-color);\n",
              "    fill: var(--disabled-fill-color);\n",
              "    box-shadow: none;\n",
              "  }\n",
              "\n",
              "  .colab-df-spinner {\n",
              "    border: 2px solid var(--fill-color);\n",
              "    border-color: transparent;\n",
              "    border-bottom-color: var(--fill-color);\n",
              "    animation:\n",
              "      spin 1s steps(1) infinite;\n",
              "  }\n",
              "\n",
              "  @keyframes spin {\n",
              "    0% {\n",
              "      border-color: transparent;\n",
              "      border-bottom-color: var(--fill-color);\n",
              "      border-left-color: var(--fill-color);\n",
              "    }\n",
              "    20% {\n",
              "      border-color: transparent;\n",
              "      border-left-color: var(--fill-color);\n",
              "      border-top-color: var(--fill-color);\n",
              "    }\n",
              "    30% {\n",
              "      border-color: transparent;\n",
              "      border-left-color: var(--fill-color);\n",
              "      border-top-color: var(--fill-color);\n",
              "      border-right-color: var(--fill-color);\n",
              "    }\n",
              "    40% {\n",
              "      border-color: transparent;\n",
              "      border-right-color: var(--fill-color);\n",
              "      border-top-color: var(--fill-color);\n",
              "    }\n",
              "    60% {\n",
              "      border-color: transparent;\n",
              "      border-right-color: var(--fill-color);\n",
              "    }\n",
              "    80% {\n",
              "      border-color: transparent;\n",
              "      border-right-color: var(--fill-color);\n",
              "      border-bottom-color: var(--fill-color);\n",
              "    }\n",
              "    90% {\n",
              "      border-color: transparent;\n",
              "      border-bottom-color: var(--fill-color);\n",
              "    }\n",
              "  }\n",
              "</style>\n",
              "\n",
              "  <script>\n",
              "    async function quickchart(key) {\n",
              "      const quickchartButtonEl =\n",
              "        document.querySelector('#' + key + ' button');\n",
              "      quickchartButtonEl.disabled = true;  // To prevent multiple clicks.\n",
              "      quickchartButtonEl.classList.add('colab-df-spinner');\n",
              "      try {\n",
              "        const charts = await google.colab.kernel.invokeFunction(\n",
              "            'suggestCharts', [key], {});\n",
              "      } catch (error) {\n",
              "        console.error('Error during call to suggestCharts:', error);\n",
              "      }\n",
              "      quickchartButtonEl.classList.remove('colab-df-spinner');\n",
              "      quickchartButtonEl.classList.add('colab-df-quickchart-complete');\n",
              "    }\n",
              "    (() => {\n",
              "      let quickchartButtonEl =\n",
              "        document.querySelector('#df-44560c0d-d9ed-4470-bf8c-277b2a1bd963 button');\n",
              "      quickchartButtonEl.style.display =\n",
              "        google.colab.kernel.accessAllowed ? 'block' : 'none';\n",
              "    })();\n",
              "  </script>\n",
              "</div>\n",
              "    </div>\n",
              "  </div>\n"
            ]
          },
          "metadata": {},
          "execution_count": 40
        }
      ]
    },
    {
      "cell_type": "code",
      "source": [
        "# De esta clasificación por decenios es posible dar cuenta de otros datos anómalos\n",
        "# que son organizaciones constituidas en decenios que aun no existen.\n",
        "# Se filtran los registros correspondientes a los decenios 2090, 2100 y 2110\n",
        "registros_anomalos = df_organizaciones[df_organizaciones['DECENIOS'].isin([2090, 2100, 2110])]\n",
        "registros_anomalos"
      ],
      "metadata": {
        "colab": {
          "base_uri": "https://localhost:8080/",
          "height": 230
        },
        "id": "TiuspbQsgbh6",
        "outputId": "b314ab4e-25c5-4773-d1e6-602145091af2"
      },
      "execution_count": null,
      "outputs": [
        {
          "output_type": "execute_result",
          "data": {
            "text/plain": [
              "       NRO DE INSCRIPCION                               NOMBRE PJ     COMUNA  \\\n",
              "5522                71470  CENTRO CULTURAL CANTO BAILE Y ESFUERZO    QUILPUÉ   \n",
              "22857              187490          CLUB DE ADULTO MAYOR LONQUIMAY  EL QUISCO   \n",
              "24669              193828          COMITE LAS PALMAS DE BOSQUEMAR  ALGARROBO   \n",
              "\n",
              "                                    DIRECCION         TIPO FECHA DE CONCESION  \\\n",
              "5522   DEL ARAYAN N°921 POBLACION EL ESFUERZO  COMUNITARIA         2110-07-05   \n",
              "22857             AV. ISIDORO DUBOURNAIS 2160  COMUNITARIA         2104-08-19   \n",
              "24669                       ANTARES NRO. 2713  COMUNITARIA         2099-02-21   \n",
              "\n",
              "      FECHA DE INSCRIPCION          CLASIFICACION   ESTADO  DECENIOS  \n",
              "5522            23-05-2013  AGRUPACION DE CULTURA  VIGENTE      2110  \n",
              "22857           27-10-2014                    NaN  VIGENTE      2100  \n",
              "24669           12-03-2015                 COMITE  VIGENTE      2090  "
            ],
            "text/html": [
              "\n",
              "  <div id=\"df-7dc1decb-d724-43b8-94d9-e3ede12649cc\" class=\"colab-df-container\">\n",
              "    <div>\n",
              "<style scoped>\n",
              "    .dataframe tbody tr th:only-of-type {\n",
              "        vertical-align: middle;\n",
              "    }\n",
              "\n",
              "    .dataframe tbody tr th {\n",
              "        vertical-align: top;\n",
              "    }\n",
              "\n",
              "    .dataframe thead th {\n",
              "        text-align: right;\n",
              "    }\n",
              "</style>\n",
              "<table border=\"1\" class=\"dataframe\">\n",
              "  <thead>\n",
              "    <tr style=\"text-align: right;\">\n",
              "      <th></th>\n",
              "      <th>NRO DE INSCRIPCION</th>\n",
              "      <th>NOMBRE PJ</th>\n",
              "      <th>COMUNA</th>\n",
              "      <th>DIRECCION</th>\n",
              "      <th>TIPO</th>\n",
              "      <th>FECHA DE CONCESION</th>\n",
              "      <th>FECHA DE INSCRIPCION</th>\n",
              "      <th>CLASIFICACION</th>\n",
              "      <th>ESTADO</th>\n",
              "      <th>DECENIOS</th>\n",
              "    </tr>\n",
              "  </thead>\n",
              "  <tbody>\n",
              "    <tr>\n",
              "      <th>5522</th>\n",
              "      <td>71470</td>\n",
              "      <td>CENTRO CULTURAL CANTO BAILE Y ESFUERZO</td>\n",
              "      <td>QUILPUÉ</td>\n",
              "      <td>DEL ARAYAN N°921 POBLACION EL ESFUERZO</td>\n",
              "      <td>COMUNITARIA</td>\n",
              "      <td>2110-07-05</td>\n",
              "      <td>23-05-2013</td>\n",
              "      <td>AGRUPACION DE CULTURA</td>\n",
              "      <td>VIGENTE</td>\n",
              "      <td>2110</td>\n",
              "    </tr>\n",
              "    <tr>\n",
              "      <th>22857</th>\n",
              "      <td>187490</td>\n",
              "      <td>CLUB DE ADULTO MAYOR LONQUIMAY</td>\n",
              "      <td>EL QUISCO</td>\n",
              "      <td>AV. ISIDORO DUBOURNAIS 2160</td>\n",
              "      <td>COMUNITARIA</td>\n",
              "      <td>2104-08-19</td>\n",
              "      <td>27-10-2014</td>\n",
              "      <td>NaN</td>\n",
              "      <td>VIGENTE</td>\n",
              "      <td>2100</td>\n",
              "    </tr>\n",
              "    <tr>\n",
              "      <th>24669</th>\n",
              "      <td>193828</td>\n",
              "      <td>COMITE LAS PALMAS DE BOSQUEMAR</td>\n",
              "      <td>ALGARROBO</td>\n",
              "      <td>ANTARES NRO. 2713</td>\n",
              "      <td>COMUNITARIA</td>\n",
              "      <td>2099-02-21</td>\n",
              "      <td>12-03-2015</td>\n",
              "      <td>COMITE</td>\n",
              "      <td>VIGENTE</td>\n",
              "      <td>2090</td>\n",
              "    </tr>\n",
              "  </tbody>\n",
              "</table>\n",
              "</div>\n",
              "    <div class=\"colab-df-buttons\">\n",
              "\n",
              "  <div class=\"colab-df-container\">\n",
              "    <button class=\"colab-df-convert\" onclick=\"convertToInteractive('df-7dc1decb-d724-43b8-94d9-e3ede12649cc')\"\n",
              "            title=\"Convert this dataframe to an interactive table.\"\n",
              "            style=\"display:none;\">\n",
              "\n",
              "  <svg xmlns=\"http://www.w3.org/2000/svg\" height=\"24px\" viewBox=\"0 -960 960 960\">\n",
              "    <path d=\"M120-120v-720h720v720H120Zm60-500h600v-160H180v160Zm220 220h160v-160H400v160Zm0 220h160v-160H400v160ZM180-400h160v-160H180v160Zm440 0h160v-160H620v160ZM180-180h160v-160H180v160Zm440 0h160v-160H620v160Z\"/>\n",
              "  </svg>\n",
              "    </button>\n",
              "\n",
              "  <style>\n",
              "    .colab-df-container {\n",
              "      display:flex;\n",
              "      gap: 12px;\n",
              "    }\n",
              "\n",
              "    .colab-df-convert {\n",
              "      background-color: #E8F0FE;\n",
              "      border: none;\n",
              "      border-radius: 50%;\n",
              "      cursor: pointer;\n",
              "      display: none;\n",
              "      fill: #1967D2;\n",
              "      height: 32px;\n",
              "      padding: 0 0 0 0;\n",
              "      width: 32px;\n",
              "    }\n",
              "\n",
              "    .colab-df-convert:hover {\n",
              "      background-color: #E2EBFA;\n",
              "      box-shadow: 0px 1px 2px rgba(60, 64, 67, 0.3), 0px 1px 3px 1px rgba(60, 64, 67, 0.15);\n",
              "      fill: #174EA6;\n",
              "    }\n",
              "\n",
              "    .colab-df-buttons div {\n",
              "      margin-bottom: 4px;\n",
              "    }\n",
              "\n",
              "    [theme=dark] .colab-df-convert {\n",
              "      background-color: #3B4455;\n",
              "      fill: #D2E3FC;\n",
              "    }\n",
              "\n",
              "    [theme=dark] .colab-df-convert:hover {\n",
              "      background-color: #434B5C;\n",
              "      box-shadow: 0px 1px 3px 1px rgba(0, 0, 0, 0.15);\n",
              "      filter: drop-shadow(0px 1px 2px rgba(0, 0, 0, 0.3));\n",
              "      fill: #FFFFFF;\n",
              "    }\n",
              "  </style>\n",
              "\n",
              "    <script>\n",
              "      const buttonEl =\n",
              "        document.querySelector('#df-7dc1decb-d724-43b8-94d9-e3ede12649cc button.colab-df-convert');\n",
              "      buttonEl.style.display =\n",
              "        google.colab.kernel.accessAllowed ? 'block' : 'none';\n",
              "\n",
              "      async function convertToInteractive(key) {\n",
              "        const element = document.querySelector('#df-7dc1decb-d724-43b8-94d9-e3ede12649cc');\n",
              "        const dataTable =\n",
              "          await google.colab.kernel.invokeFunction('convertToInteractive',\n",
              "                                                    [key], {});\n",
              "        if (!dataTable) return;\n",
              "\n",
              "        const docLinkHtml = 'Like what you see? Visit the ' +\n",
              "          '<a target=\"_blank\" href=https://colab.research.google.com/notebooks/data_table.ipynb>data table notebook</a>'\n",
              "          + ' to learn more about interactive tables.';\n",
              "        element.innerHTML = '';\n",
              "        dataTable['output_type'] = 'display_data';\n",
              "        await google.colab.output.renderOutput(dataTable, element);\n",
              "        const docLink = document.createElement('div');\n",
              "        docLink.innerHTML = docLinkHtml;\n",
              "        element.appendChild(docLink);\n",
              "      }\n",
              "    </script>\n",
              "  </div>\n",
              "\n",
              "\n",
              "<div id=\"df-d1455172-134d-454c-add1-157ccc87cfc1\">\n",
              "  <button class=\"colab-df-quickchart\" onclick=\"quickchart('df-d1455172-134d-454c-add1-157ccc87cfc1')\"\n",
              "            title=\"Suggest charts.\"\n",
              "            style=\"display:none;\">\n",
              "\n",
              "<svg xmlns=\"http://www.w3.org/2000/svg\" height=\"24px\"viewBox=\"0 0 24 24\"\n",
              "     width=\"24px\">\n",
              "    <g>\n",
              "        <path d=\"M19 3H5c-1.1 0-2 .9-2 2v14c0 1.1.9 2 2 2h14c1.1 0 2-.9 2-2V5c0-1.1-.9-2-2-2zM9 17H7v-7h2v7zm4 0h-2V7h2v10zm4 0h-2v-4h2v4z\"/>\n",
              "    </g>\n",
              "</svg>\n",
              "  </button>\n",
              "\n",
              "<style>\n",
              "  .colab-df-quickchart {\n",
              "      --bg-color: #E8F0FE;\n",
              "      --fill-color: #1967D2;\n",
              "      --hover-bg-color: #E2EBFA;\n",
              "      --hover-fill-color: #174EA6;\n",
              "      --disabled-fill-color: #AAA;\n",
              "      --disabled-bg-color: #DDD;\n",
              "  }\n",
              "\n",
              "  [theme=dark] .colab-df-quickchart {\n",
              "      --bg-color: #3B4455;\n",
              "      --fill-color: #D2E3FC;\n",
              "      --hover-bg-color: #434B5C;\n",
              "      --hover-fill-color: #FFFFFF;\n",
              "      --disabled-bg-color: #3B4455;\n",
              "      --disabled-fill-color: #666;\n",
              "  }\n",
              "\n",
              "  .colab-df-quickchart {\n",
              "    background-color: var(--bg-color);\n",
              "    border: none;\n",
              "    border-radius: 50%;\n",
              "    cursor: pointer;\n",
              "    display: none;\n",
              "    fill: var(--fill-color);\n",
              "    height: 32px;\n",
              "    padding: 0;\n",
              "    width: 32px;\n",
              "  }\n",
              "\n",
              "  .colab-df-quickchart:hover {\n",
              "    background-color: var(--hover-bg-color);\n",
              "    box-shadow: 0 1px 2px rgba(60, 64, 67, 0.3), 0 1px 3px 1px rgba(60, 64, 67, 0.15);\n",
              "    fill: var(--button-hover-fill-color);\n",
              "  }\n",
              "\n",
              "  .colab-df-quickchart-complete:disabled,\n",
              "  .colab-df-quickchart-complete:disabled:hover {\n",
              "    background-color: var(--disabled-bg-color);\n",
              "    fill: var(--disabled-fill-color);\n",
              "    box-shadow: none;\n",
              "  }\n",
              "\n",
              "  .colab-df-spinner {\n",
              "    border: 2px solid var(--fill-color);\n",
              "    border-color: transparent;\n",
              "    border-bottom-color: var(--fill-color);\n",
              "    animation:\n",
              "      spin 1s steps(1) infinite;\n",
              "  }\n",
              "\n",
              "  @keyframes spin {\n",
              "    0% {\n",
              "      border-color: transparent;\n",
              "      border-bottom-color: var(--fill-color);\n",
              "      border-left-color: var(--fill-color);\n",
              "    }\n",
              "    20% {\n",
              "      border-color: transparent;\n",
              "      border-left-color: var(--fill-color);\n",
              "      border-top-color: var(--fill-color);\n",
              "    }\n",
              "    30% {\n",
              "      border-color: transparent;\n",
              "      border-left-color: var(--fill-color);\n",
              "      border-top-color: var(--fill-color);\n",
              "      border-right-color: var(--fill-color);\n",
              "    }\n",
              "    40% {\n",
              "      border-color: transparent;\n",
              "      border-right-color: var(--fill-color);\n",
              "      border-top-color: var(--fill-color);\n",
              "    }\n",
              "    60% {\n",
              "      border-color: transparent;\n",
              "      border-right-color: var(--fill-color);\n",
              "    }\n",
              "    80% {\n",
              "      border-color: transparent;\n",
              "      border-right-color: var(--fill-color);\n",
              "      border-bottom-color: var(--fill-color);\n",
              "    }\n",
              "    90% {\n",
              "      border-color: transparent;\n",
              "      border-bottom-color: var(--fill-color);\n",
              "    }\n",
              "  }\n",
              "</style>\n",
              "\n",
              "  <script>\n",
              "    async function quickchart(key) {\n",
              "      const quickchartButtonEl =\n",
              "        document.querySelector('#' + key + ' button');\n",
              "      quickchartButtonEl.disabled = true;  // To prevent multiple clicks.\n",
              "      quickchartButtonEl.classList.add('colab-df-spinner');\n",
              "      try {\n",
              "        const charts = await google.colab.kernel.invokeFunction(\n",
              "            'suggestCharts', [key], {});\n",
              "      } catch (error) {\n",
              "        console.error('Error during call to suggestCharts:', error);\n",
              "      }\n",
              "      quickchartButtonEl.classList.remove('colab-df-spinner');\n",
              "      quickchartButtonEl.classList.add('colab-df-quickchart-complete');\n",
              "    }\n",
              "    (() => {\n",
              "      let quickchartButtonEl =\n",
              "        document.querySelector('#df-d1455172-134d-454c-add1-157ccc87cfc1 button');\n",
              "      quickchartButtonEl.style.display =\n",
              "        google.colab.kernel.accessAllowed ? 'block' : 'none';\n",
              "    })();\n",
              "  </script>\n",
              "</div>\n",
              "    </div>\n",
              "  </div>\n"
            ]
          },
          "metadata": {},
          "execution_count": 41
        }
      ]
    },
    {
      "cell_type": "code",
      "source": [
        "# Se eliminan los registros correspondientes a los decenios 2090, 2100 y 2110 del DataFrame\n",
        "df_organizaciones.drop(df_organizaciones[df_organizaciones['DECENIOS'].isin([2090, 2100, 2110])].index, inplace=True)"
      ],
      "metadata": {
        "id": "55OVmL3xiMXc"
      },
      "execution_count": null,
      "outputs": []
    },
    {
      "cell_type": "code",
      "source": [
        "print(f'El dataframe final contiene {len(df_organizaciones)} registros.')"
      ],
      "metadata": {
        "colab": {
          "base_uri": "https://localhost:8080/"
        },
        "id": "RJd6YL1lsEBa",
        "outputId": "307056ea-46b8-4779-f18f-b1aa02010409"
      },
      "execution_count": null,
      "outputs": [
        {
          "output_type": "stream",
          "name": "stdout",
          "text": [
            "El dataframe final contiene 36586 registros.\n"
          ]
        }
      ]
    },
    {
      "cell_type": "code",
      "source": [
        "# Una vez el dataframe limpio, es posible extraer información.\n",
        "# Por ejemplo, la organización vigente más antigua de la región.\n",
        "# Primero, se filtran las organizciones vigentes.\n",
        "organizaciones_vigentes = df_organizaciones[df_organizaciones['ESTADO'] == 'VIGENTE'].copy()\n",
        "\n",
        "# Se convierte el dato de la fecha a datetime.\n",
        "organizaciones_vigentes['FECHA DE CONCESION'] = pd.to_datetime(organizaciones_vigentes['FECHA DE CONCESION'], dayfirst = True)\n",
        "\n",
        "# Se encuentra la organización más antigua (la que tiene la fecha de concesión mínima).\n",
        "organizacion_mas_antigua = organizaciones_vigentes.loc[organizaciones_vigentes['FECHA DE CONCESION'].idxmin()]\n",
        "\n",
        "print(\"Información de la organización más antigua:\")\n",
        "organizacion_mas_antigua"
      ],
      "metadata": {
        "colab": {
          "base_uri": "https://localhost:8080/"
        },
        "id": "g1kpLIfPq84B",
        "outputId": "5b37a881-815e-4664-e297-e112fe3e22b3"
      },
      "execution_count": null,
      "outputs": [
        {
          "output_type": "stream",
          "name": "stdout",
          "text": [
            "Información de la organización más antigua:\n"
          ]
        },
        {
          "output_type": "execute_result",
          "data": {
            "text/plain": [
              "NRO DE INSCRIPCION                                      12674\n",
              "NOMBRE PJ               ASOCIACION DE ARTESANOS DE VALPARAISO\n",
              "COMUNA                                             VALPARAÍSO\n",
              "DIRECCION                                      COLON NRO 3144\n",
              "TIPO                                             CODIGO CIVIL\n",
              "FECHA DE CONCESION                        1865-08-29 00:00:00\n",
              "FECHA DE INSCRIPCION                               31-01-2013\n",
              "CLASIFICACION                                     CORPORACION\n",
              "ESTADO                                                VIGENTE\n",
              "DECENIOS                                                 1860\n",
              "Name: 35264, dtype: object"
            ]
          },
          "metadata": {},
          "execution_count": 44
        }
      ]
    },
    {
      "cell_type": "code",
      "source": [
        "# Gráfico de torta con el tipo de organización.\n",
        "grafico_tipos = df_organizaciones.TIPO.value_counts()\n",
        "grafico_tipos.plot.pie(autopct = '%1.1f%%')"
      ],
      "metadata": {
        "colab": {
          "base_uri": "https://localhost:8080/",
          "height": 423
        },
        "id": "p6tich6Ls2ad",
        "outputId": "3161fcf7-dbff-4bfd-c3e3-3450afc4cdc5"
      },
      "execution_count": null,
      "outputs": [
        {
          "output_type": "execute_result",
          "data": {
            "text/plain": [
              "<Axes: ylabel='TIPO'>"
            ]
          },
          "metadata": {},
          "execution_count": 45
        },
        {
          "output_type": "display_data",
          "data": {
            "text/plain": [
              "<Figure size 640x480 with 1 Axes>"
            ],
            "image/png": "[encoded data removed]"
          },
          "metadata": {}
        }
      ]
    },
    {
      "cell_type": "code",
      "source": [
        "# Gráfico de barras para las comunas con mayor cantidad de organizaciones.\n",
        "cantidad_por_comuna = df_organizaciones.COMUNA.value_counts()\n",
        "top_comunas = cantidad_por_comuna.head(10)\n",
        "top_comunas = top_comunas.sort_values()\n",
        "top_comunas.plot.barh()"
      ],
      "metadata": {
        "colab": {
          "base_uri": "https://localhost:8080/",
          "height": 447
        },
        "id": "kMwYUPoquLrs",
        "outputId": "395e89ea-de47-437f-e711-1ad18141196f"
      },
      "execution_count": null,
      "outputs": [
        {
          "output_type": "execute_result",
          "data": {
            "text/plain": [
              "<Axes: >"
            ]
          },
          "metadata": {},
          "execution_count": 46
        },
        {
          "output_type": "display_data",
          "data": {
            "text/plain": [
              "<Figure size 640x480 with 1 Axes>"
            ],
            "image/png": "[encoded data removed]"
          },
          "metadata": {}
        }
      ]
    },
    {
      "cell_type": "code",
      "source": [
        "# Gráfico de barras para las mayores categorías de organizaciones.\n",
        "cantidad_por_clasificacion = df_organizaciones.CLASIFICACION.value_counts()\n",
        "top_categorias = cantidad_por_clasificacion.head(10)\n",
        "top_categorias = top_categorias.sort_values()\n",
        "top_categorias.plot.barh()"
      ],
      "metadata": {
        "colab": {
          "base_uri": "https://localhost:8080/",
          "height": 447
        },
        "id": "w7aGYp10zmC5",
        "outputId": "2a80dc5e-7fe7-45c0-c5e5-e8b69ffa323d"
      },
      "execution_count": null,
      "outputs": [
        {
          "output_type": "execute_result",
          "data": {
            "text/plain": [
              "<Axes: >"
            ]
          },
          "metadata": {},
          "execution_count": 47
        },
        {
          "output_type": "display_data",
          "data": {
            "text/plain": [
              "<Figure size 640x480 with 1 Axes>"
            ],
            "image/png": "[encoded data removed]"
          },
          "metadata": {}
        }
      ]
    },
    {
      "cell_type": "code",
      "source": [
        "# Histograma de constituciones de organizaciones por decenios.\n",
        "df_organizaciones.DECENIOS.plot.hist()"
      ],
      "metadata": {
        "colab": {
          "base_uri": "https://localhost:8080/",
          "height": 447
        },
        "id": "YVW_EVY-zKsi",
        "outputId": "76c65574-07be-4b7a-d030-1c3ddefd17c9"
      },
      "execution_count": null,
      "outputs": [
        {
          "output_type": "execute_result",
          "data": {
            "text/plain": [
              "<Axes: ylabel='Frequency'>"
            ]
          },
          "metadata": {},
          "execution_count": 48
        },
        {
          "output_type": "display_data",
          "data": {
            "text/plain": [
              "<Figure size 640x480 with 1 Axes>"
            ],
            "image/png": "[encoded data removed]"
          },
          "metadata": {}
        }
      ]
    },
    {
      "cell_type": "markdown",
      "source": [
        "Finalmente, del dataframe original con **37.628** registros, luego de la limpieza de datos, es posible poder extraer información de **36.586** registros, lo que representa una merma de menos del **3%** del total de registros."
      ],
      "metadata": {
        "id": "CLUN5LQzi0oZ"
      }
    }
  ]
}